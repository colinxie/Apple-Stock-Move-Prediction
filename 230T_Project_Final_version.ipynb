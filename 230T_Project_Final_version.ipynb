{
 "cells": [
  {
   "cell_type": "markdown",
   "metadata": {
    "colab_type": "text",
    "id": "qTv0cVQWXtzp"
   },
   "source": [
    "## 230T Trading Project\n",
    "### 10/11/2018\n",
    "#### Sumair Ajanee, Anurag Siroliya, Zhaochen (Colin) Xie, Amy Zhou\n",
    "#### Python 3.6"
   ]
  },
  {
   "cell_type": "code",
   "execution_count": 1,
   "metadata": {
    "colab": {},
    "colab_type": "code",
    "id": "9YG1twe4Xtzt"
   },
   "outputs": [],
   "source": [
    "import pandas as pd\n",
    "import numpy as np\n",
    "import matplotlib.pyplot as plt\n",
    "import time\n",
    "import collections\n",
    "from scipy import stats\n",
    "import seaborn as sns; sns.set()\n",
    "%matplotlib inline\n",
    "\n",
    "from sklearn.ensemble import RandomForestClassifier\n",
    "from sklearn.metrics import accuracy_score, make_scorer\n",
    "from sklearn.model_selection import cross_validate, TimeSeriesSplit,RandomizedSearchCV\n",
    "from sklearn.linear_model import LogisticRegression\n",
    "from sklearn.svm import SVC\n",
    "from sklearn.model_selection import train_test_split\n",
    "from sklearn.model_selection import StratifiedShuffleSplit\n",
    "from sklearn.model_selection import GridSearchCV\n",
    "from sklearn.model_selection import cross_val_score\n",
    "from sklearn.pipeline import make_pipeline\n",
    "from sklearn.metrics import precision_score, recall_score, f1_score, roc_auc_score, accuracy_score, classification_report\n",
    "from sklearn.metrics import confusion_matrix, precision_recall_curve, fbeta_score\n",
    "from sklearn.preprocessing import RobustScaler\n",
    "from collections import Counter\n",
    "from sklearn.model_selection import KFold, StratifiedKFold\n",
    "from sklearn.ensemble import RandomForestClassifier\n",
    "from sklearn.metrics import accuracy_score, make_scorer\n",
    "from sklearn.metrics import classification_report, roc_curve, auc\n",
    "from sklearn.model_selection import cross_validate, train_test_split"
   ]
  },
  {
   "cell_type": "code",
   "execution_count": 2,
   "metadata": {
    "colab": {},
    "colab_type": "code",
    "id": "pwmEHZHDXtzv"
   },
   "outputs": [],
   "source": [
    "# Function of print performance metrics\n",
    "\n",
    "def perf_metrics(X, y_true, model, t1, t0):\n",
    "    y_pred = model.predict(X)\n",
    "    mat = confusion_matrix(y_true, y_pred)\n",
    "    sns.heatmap(mat.T, square=True, annot=True, fmt='d', cbar=False)\n",
    "    f = fbeta_score(y_true, y_pred, average='binary', beta=0.5)\n",
    "    f1 = f1_score(y_true, y_pred)\n",
    "    \n",
    "    plt.xlabel('True label')\n",
    "    plt.ylabel('Predicted label')\n",
    "    plt.title('Confusion Matrix')\n",
    "    plt.show()\n",
    "    \n",
    "    print('-' * 70)\n",
    "    print('F beta score is: ' + str(f))\n",
    "    print('-' * 70)\n",
    "    print('F1 score is: ' + str(f1))\n",
    "    print('-' * 70)\n",
    "    print('Classification Report: \\n')\n",
    "    print(classification_report(y_true, y_pred))\n",
    "    print('-' * 70)\n",
    "    print(\"It took {:.2} sec to fit the model.\".format(t1 - t0))\n",
    "    print('-' * 70)\n",
    "\n",
    "    fpr, tpr, _ = roc_curve(y_pred, y_true, pos_label=1)\n",
    "    print(\"Accuracy score: %f\" % (accuracy_score(y_true, y_pred)))\n",
    "    roc_auc = auc(fpr, tpr)\n",
    "    print(\"AUC is: %f\" % roc_auc)\n",
    "    print('-' * 70)"
   ]
  },
  {
   "cell_type": "markdown",
   "metadata": {
    "colab_type": "text",
    "id": "Ts7b_RJ3Xtz3"
   },
   "source": [
    "# Step1: Load the Data"
   ]
  },
  {
   "cell_type": "code",
   "execution_count": 3,
   "metadata": {
    "colab": {},
    "colab_type": "code",
    "id": "U5_Ij92MXtz3"
   },
   "outputs": [
    {
     "data": {
      "text/html": [
       "<div>\n",
       "<style scoped>\n",
       "    .dataframe tbody tr th:only-of-type {\n",
       "        vertical-align: middle;\n",
       "    }\n",
       "\n",
       "    .dataframe tbody tr th {\n",
       "        vertical-align: top;\n",
       "    }\n",
       "\n",
       "    .dataframe thead th {\n",
       "        text-align: right;\n",
       "    }\n",
       "</style>\n",
       "<table border=\"1\" class=\"dataframe\">\n",
       "  <thead>\n",
       "    <tr style=\"text-align: right;\">\n",
       "      <th></th>\n",
       "      <th>Open_VIX</th>\n",
       "      <th>High_VIX</th>\n",
       "      <th>Low_VIX</th>\n",
       "      <th>Close_VIX</th>\n",
       "      <th>Adj Close_VIX</th>\n",
       "      <th>Volume_VIX</th>\n",
       "    </tr>\n",
       "    <tr>\n",
       "      <th>Date</th>\n",
       "      <th></th>\n",
       "      <th></th>\n",
       "      <th></th>\n",
       "      <th></th>\n",
       "      <th></th>\n",
       "      <th></th>\n",
       "    </tr>\n",
       "  </thead>\n",
       "  <tbody>\n",
       "    <tr>\n",
       "      <th>2005-01-03</th>\n",
       "      <td>13.39</td>\n",
       "      <td>14.23</td>\n",
       "      <td>13.25</td>\n",
       "      <td>14.08</td>\n",
       "      <td>14.08</td>\n",
       "      <td>0</td>\n",
       "    </tr>\n",
       "    <tr>\n",
       "      <th>2005-01-04</th>\n",
       "      <td>14.01</td>\n",
       "      <td>14.45</td>\n",
       "      <td>13.93</td>\n",
       "      <td>13.98</td>\n",
       "      <td>13.98</td>\n",
       "      <td>0</td>\n",
       "    </tr>\n",
       "    <tr>\n",
       "      <th>2005-01-05</th>\n",
       "      <td>13.98</td>\n",
       "      <td>14.09</td>\n",
       "      <td>13.26</td>\n",
       "      <td>14.09</td>\n",
       "      <td>14.09</td>\n",
       "      <td>0</td>\n",
       "    </tr>\n",
       "    <tr>\n",
       "      <th>2005-01-06</th>\n",
       "      <td>14.09</td>\n",
       "      <td>14.09</td>\n",
       "      <td>13.33</td>\n",
       "      <td>13.58</td>\n",
       "      <td>13.58</td>\n",
       "      <td>0</td>\n",
       "    </tr>\n",
       "    <tr>\n",
       "      <th>2005-01-07</th>\n",
       "      <td>13.47</td>\n",
       "      <td>13.51</td>\n",
       "      <td>12.94</td>\n",
       "      <td>13.49</td>\n",
       "      <td>13.49</td>\n",
       "      <td>0</td>\n",
       "    </tr>\n",
       "  </tbody>\n",
       "</table>\n",
       "</div>"
      ],
      "text/plain": [
       "            Open_VIX  High_VIX  Low_VIX  Close_VIX  Adj Close_VIX  Volume_VIX\n",
       "Date                                                                         \n",
       "2005-01-03     13.39     14.23    13.25      14.08          14.08           0\n",
       "2005-01-04     14.01     14.45    13.93      13.98          13.98           0\n",
       "2005-01-05     13.98     14.09    13.26      14.09          14.09           0\n",
       "2005-01-06     14.09     14.09    13.33      13.58          13.58           0\n",
       "2005-01-07     13.47     13.51    12.94      13.49          13.49           0"
      ]
     },
     "execution_count": 3,
     "metadata": {},
     "output_type": "execute_result"
    }
   ],
   "source": [
    "# stock price\n",
    "df_AAPL = pd.read_csv(\"AAPL2005.csv\",parse_dates=True,index_col=[0])\n",
    "df_AAPL.columns = np.array(df_AAPL.columns) +'_AAPL' \n",
    "\n",
    "# SP500 index\n",
    "df_SP500 = pd.read_csv(\"SP2005.csv\",parse_dates=True,index_col=[0])\n",
    "df_SP500.columns = np.array(df_SP500.columns) +'_SP500' \n",
    "df_SP500.head()\n",
    "\n",
    "# VIX index\n",
    "df_VIX = pd.read_csv(\"VIX2005.csv\",parse_dates=True,index_col=[0])\n",
    "df_VIX.columns = np.array(df_VIX.columns) +'_VIX' \n",
    "df_VIX.head()\n",
    "\n"
   ]
  },
  {
   "cell_type": "code",
   "execution_count": 4,
   "metadata": {
    "colab": {},
    "colab_type": "code",
    "id": "f_tPYQc16BWQ"
   },
   "outputs": [
    {
     "data": {
      "text/html": [
       "<div>\n",
       "<style scoped>\n",
       "    .dataframe tbody tr th:only-of-type {\n",
       "        vertical-align: middle;\n",
       "    }\n",
       "\n",
       "    .dataframe tbody tr th {\n",
       "        vertical-align: top;\n",
       "    }\n",
       "\n",
       "    .dataframe thead th {\n",
       "        text-align: right;\n",
       "    }\n",
       "</style>\n",
       "<table border=\"1\" class=\"dataframe\">\n",
       "  <thead>\n",
       "    <tr style=\"text-align: right;\">\n",
       "      <th></th>\n",
       "      <th>USDEUR</th>\n",
       "      <th>USDYuan</th>\n",
       "    </tr>\n",
       "    <tr>\n",
       "      <th>Date</th>\n",
       "      <th></th>\n",
       "      <th></th>\n",
       "    </tr>\n",
       "  </thead>\n",
       "  <tbody>\n",
       "    <tr>\n",
       "      <th>2005-09-06</th>\n",
       "      <td>1.2483</td>\n",
       "      <td>8.0913</td>\n",
       "    </tr>\n",
       "    <tr>\n",
       "      <th>2005-09-07</th>\n",
       "      <td>1.2439</td>\n",
       "      <td>8.0925</td>\n",
       "    </tr>\n",
       "    <tr>\n",
       "      <th>2005-09-08</th>\n",
       "      <td>1.2400</td>\n",
       "      <td>8.0945</td>\n",
       "    </tr>\n",
       "    <tr>\n",
       "      <th>2005-09-09</th>\n",
       "      <td>1.2433</td>\n",
       "      <td>8.0956</td>\n",
       "    </tr>\n",
       "    <tr>\n",
       "      <th>2005-09-12</th>\n",
       "      <td>1.2288</td>\n",
       "      <td>8.0924</td>\n",
       "    </tr>\n",
       "  </tbody>\n",
       "</table>\n",
       "</div>"
      ],
      "text/plain": [
       "            USDEUR  USDYuan\n",
       "Date                       \n",
       "2005-09-06  1.2483   8.0913\n",
       "2005-09-07  1.2439   8.0925\n",
       "2005-09-08  1.2400   8.0945\n",
       "2005-09-09  1.2433   8.0956\n",
       "2005-09-12  1.2288   8.0924"
      ]
     },
     "execution_count": 4,
     "metadata": {},
     "output_type": "execute_result"
    }
   ],
   "source": [
    "#Exchagne rate data\n",
    "df_Curr = pd.read_csv(\"CurrencyFeatures.csv\",parse_dates=True,index_col=[1])\n",
    "\n",
    "df_Curr = df_Curr.iloc[:,1:]\n",
    "df_Curr = df_Curr.apply(pd.to_numeric,downcast='float',errors='coerce')\n",
    "\n",
    "df_Curr.head()"
   ]
  },
  {
   "cell_type": "code",
   "execution_count": 5,
   "metadata": {
    "colab": {},
    "colab_type": "code",
    "id": "-9BYsv0eXtz8"
   },
   "outputs": [
    {
     "data": {
      "text/html": [
       "<div>\n",
       "<style scoped>\n",
       "    .dataframe tbody tr th:only-of-type {\n",
       "        vertical-align: middle;\n",
       "    }\n",
       "\n",
       "    .dataframe tbody tr th {\n",
       "        vertical-align: top;\n",
       "    }\n",
       "\n",
       "    .dataframe thead th {\n",
       "        text-align: right;\n",
       "    }\n",
       "</style>\n",
       "<table border=\"1\" class=\"dataframe\">\n",
       "  <thead>\n",
       "    <tr style=\"text-align: right;\">\n",
       "      <th></th>\n",
       "      <th>totpats</th>\n",
       "    </tr>\n",
       "    <tr>\n",
       "      <th>Date</th>\n",
       "      <th></th>\n",
       "    </tr>\n",
       "  </thead>\n",
       "  <tbody>\n",
       "    <tr>\n",
       "      <th>2006-06-21</th>\n",
       "      <td>1</td>\n",
       "    </tr>\n",
       "    <tr>\n",
       "      <th>2006-08-15</th>\n",
       "      <td>2</td>\n",
       "    </tr>\n",
       "    <tr>\n",
       "      <th>2007-03-11</th>\n",
       "      <td>3</td>\n",
       "    </tr>\n",
       "    <tr>\n",
       "      <th>2007-06-13</th>\n",
       "      <td>4</td>\n",
       "    </tr>\n",
       "    <tr>\n",
       "      <th>2007-10-16</th>\n",
       "      <td>6</td>\n",
       "    </tr>\n",
       "  </tbody>\n",
       "</table>\n",
       "</div>"
      ],
      "text/plain": [
       "            totpats\n",
       "Date               \n",
       "2006-06-21        1\n",
       "2006-08-15        2\n",
       "2007-03-11        3\n",
       "2007-06-13        4\n",
       "2007-10-16        6"
      ]
     },
     "execution_count": 5,
     "metadata": {},
     "output_type": "execute_result"
    }
   ],
   "source": [
    "# patent data\n",
    "df_patent = pd.read_csv(\"CleanPatent3.csv\",parse_dates=True,index_col=[0])\n",
    "df_patent.head()"
   ]
  },
  {
   "cell_type": "code",
   "execution_count": 6,
   "metadata": {
    "colab": {},
    "colab_type": "code",
    "id": "499gUgABXtz_"
   },
   "outputs": [
    {
     "data": {
      "text/html": [
       "<div>\n",
       "<style scoped>\n",
       "    .dataframe tbody tr th:only-of-type {\n",
       "        vertical-align: middle;\n",
       "    }\n",
       "\n",
       "    .dataframe tbody tr th {\n",
       "        vertical-align: top;\n",
       "    }\n",
       "\n",
       "    .dataframe thead th {\n",
       "        text-align: right;\n",
       "    }\n",
       "</style>\n",
       "<table border=\"1\" class=\"dataframe\">\n",
       "  <thead>\n",
       "    <tr style=\"text-align: right;\">\n",
       "      <th></th>\n",
       "      <th>GDPC1</th>\n",
       "    </tr>\n",
       "    <tr>\n",
       "      <th>observation_date</th>\n",
       "      <th></th>\n",
       "    </tr>\n",
       "  </thead>\n",
       "  <tbody>\n",
       "    <tr>\n",
       "      <th>2005-01-01</th>\n",
       "      <td>14771.602</td>\n",
       "    </tr>\n",
       "    <tr>\n",
       "      <th>2005-04-01</th>\n",
       "      <td>14839.782</td>\n",
       "    </tr>\n",
       "    <tr>\n",
       "      <th>2005-07-01</th>\n",
       "      <td>14972.054</td>\n",
       "    </tr>\n",
       "    <tr>\n",
       "      <th>2005-10-01</th>\n",
       "      <td>15066.597</td>\n",
       "    </tr>\n",
       "    <tr>\n",
       "      <th>2006-01-01</th>\n",
       "      <td>15267.026</td>\n",
       "    </tr>\n",
       "  </tbody>\n",
       "</table>\n",
       "</div>"
      ],
      "text/plain": [
       "                      GDPC1\n",
       "observation_date           \n",
       "2005-01-01        14771.602\n",
       "2005-04-01        14839.782\n",
       "2005-07-01        14972.054\n",
       "2005-10-01        15066.597\n",
       "2006-01-01        15267.026"
      ]
     },
     "execution_count": 6,
     "metadata": {},
     "output_type": "execute_result"
    }
   ],
   "source": [
    "# GDP data\n",
    "df_GDP = pd.read_excel(\"QuarterlyGDP.xls\",parse_dates=True,index_col=[0])\n",
    "df_GDP.head()"
   ]
  },
  {
   "cell_type": "code",
   "execution_count": 7,
   "metadata": {
    "colab": {},
    "colab_type": "code",
    "id": "sf0EWWksXt0C"
   },
   "outputs": [
    {
     "data": {
      "text/html": [
       "<div>\n",
       "<style scoped>\n",
       "    .dataframe tbody tr th:only-of-type {\n",
       "        vertical-align: middle;\n",
       "    }\n",
       "\n",
       "    .dataframe tbody tr th {\n",
       "        vertical-align: top;\n",
       "    }\n",
       "\n",
       "    .dataframe thead th {\n",
       "        text-align: right;\n",
       "    }\n",
       "</style>\n",
       "<table border=\"1\" class=\"dataframe\">\n",
       "  <thead>\n",
       "    <tr style=\"text-align: right;\">\n",
       "      <th></th>\n",
       "      <th>CPIAUCSL</th>\n",
       "    </tr>\n",
       "    <tr>\n",
       "      <th>DATE</th>\n",
       "      <th></th>\n",
       "    </tr>\n",
       "  </thead>\n",
       "  <tbody>\n",
       "    <tr>\n",
       "      <th>2005-01-01</th>\n",
       "      <td>191.6</td>\n",
       "    </tr>\n",
       "    <tr>\n",
       "      <th>2005-02-01</th>\n",
       "      <td>192.4</td>\n",
       "    </tr>\n",
       "    <tr>\n",
       "      <th>2005-03-01</th>\n",
       "      <td>193.1</td>\n",
       "    </tr>\n",
       "    <tr>\n",
       "      <th>2005-04-01</th>\n",
       "      <td>193.7</td>\n",
       "    </tr>\n",
       "    <tr>\n",
       "      <th>2005-05-01</th>\n",
       "      <td>193.6</td>\n",
       "    </tr>\n",
       "  </tbody>\n",
       "</table>\n",
       "</div>"
      ],
      "text/plain": [
       "            CPIAUCSL\n",
       "DATE                \n",
       "2005-01-01     191.6\n",
       "2005-02-01     192.4\n",
       "2005-03-01     193.1\n",
       "2005-04-01     193.7\n",
       "2005-05-01     193.6"
      ]
     },
     "execution_count": 7,
     "metadata": {},
     "output_type": "execute_result"
    }
   ],
   "source": [
    "# CPI data\n",
    "df_CPI = pd.read_csv(\"CPIAUCSL.csv\",parse_dates=True,index_col=[0])\n",
    "df_CPI.head()"
   ]
  },
  {
   "cell_type": "code",
   "execution_count": 8,
   "metadata": {
    "colab": {},
    "colab_type": "code",
    "id": "nvnLBv0_Xt0F"
   },
   "outputs": [
    {
     "data": {
      "text/html": [
       "<div>\n",
       "<style scoped>\n",
       "    .dataframe tbody tr th:only-of-type {\n",
       "        vertical-align: middle;\n",
       "    }\n",
       "\n",
       "    .dataframe tbody tr th {\n",
       "        vertical-align: top;\n",
       "    }\n",
       "\n",
       "    .dataframe thead th {\n",
       "        text-align: right;\n",
       "    }\n",
       "</style>\n",
       "<table border=\"1\" class=\"dataframe\">\n",
       "  <thead>\n",
       "    <tr style=\"text-align: right;\">\n",
       "      <th></th>\n",
       "      <th>Revenue_growth</th>\n",
       "      <th>Gross_Margin</th>\n",
       "      <th>EBITDA_Margin</th>\n",
       "      <th>ROA</th>\n",
       "      <th>Asset_Turnover</th>\n",
       "      <th>Current_Ratio</th>\n",
       "      <th>1yr_share_issue</th>\n",
       "      <th>accrual</th>\n",
       "      <th>asset_growth</th>\n",
       "      <th>div_yield</th>\n",
       "    </tr>\n",
       "    <tr>\n",
       "      <th>Date</th>\n",
       "      <th></th>\n",
       "      <th></th>\n",
       "      <th></th>\n",
       "      <th></th>\n",
       "      <th></th>\n",
       "      <th></th>\n",
       "      <th></th>\n",
       "      <th></th>\n",
       "      <th></th>\n",
       "      <th></th>\n",
       "    </tr>\n",
       "  </thead>\n",
       "  <tbody>\n",
       "    <tr>\n",
       "      <th>2017-06-30</th>\n",
       "      <td>-0.152639</td>\n",
       "      <td>0.436971</td>\n",
       "      <td>0.288980</td>\n",
       "      <td>0.031196</td>\n",
       "      <td>0.131551</td>\n",
       "      <td>1.388342</td>\n",
       "      <td>-0.006946</td>\n",
       "      <td>0.110313</td>\n",
       "      <td>0.031313</td>\n",
       "      <td>0.004374</td>\n",
       "    </tr>\n",
       "    <tr>\n",
       "      <th>2017-09-30</th>\n",
       "      <td>0.146628</td>\n",
       "      <td>0.426311</td>\n",
       "      <td>0.296772</td>\n",
       "      <td>0.034957</td>\n",
       "      <td>0.140091</td>\n",
       "      <td>1.276063</td>\n",
       "      <td>-0.008466</td>\n",
       "      <td>-0.132517</td>\n",
       "      <td>0.083731</td>\n",
       "      <td>0.004088</td>\n",
       "    </tr>\n",
       "    <tr>\n",
       "      <th>2017-12-31</th>\n",
       "      <td>0.518344</td>\n",
       "      <td>0.415174</td>\n",
       "      <td>0.328667</td>\n",
       "      <td>0.064588</td>\n",
       "      <td>0.217046</td>\n",
       "      <td>1.242011</td>\n",
       "      <td>-0.008729</td>\n",
       "      <td>-0.002762</td>\n",
       "      <td>0.080531</td>\n",
       "      <td>0.003723</td>\n",
       "    </tr>\n",
       "    <tr>\n",
       "      <th>2018-03-31</th>\n",
       "      <td>-0.367544</td>\n",
       "      <td>0.427908</td>\n",
       "      <td>0.304775</td>\n",
       "      <td>0.043249</td>\n",
       "      <td>0.166358</td>\n",
       "      <td>1.456034</td>\n",
       "      <td>-0.027607</td>\n",
       "      <td>0.503106</td>\n",
       "      <td>-0.101578</td>\n",
       "      <td>0.003755</td>\n",
       "    </tr>\n",
       "    <tr>\n",
       "      <th>2018-06-30</th>\n",
       "      <td>-0.142278</td>\n",
       "      <td>0.430896</td>\n",
       "      <td>0.283637</td>\n",
       "      <td>0.035441</td>\n",
       "      <td>0.151860</td>\n",
       "      <td>1.307325</td>\n",
       "      <td>-0.020512</td>\n",
       "      <td>-0.353898</td>\n",
       "      <td>-0.051093</td>\n",
       "      <td>0.003944</td>\n",
       "    </tr>\n",
       "  </tbody>\n",
       "</table>\n",
       "</div>"
      ],
      "text/plain": [
       "            Revenue_growth  Gross_Margin  EBITDA_Margin       ROA  \\\n",
       "Date                                                                \n",
       "2017-06-30       -0.152639      0.436971       0.288980  0.031196   \n",
       "2017-09-30        0.146628      0.426311       0.296772  0.034957   \n",
       "2017-12-31        0.518344      0.415174       0.328667  0.064588   \n",
       "2018-03-31       -0.367544      0.427908       0.304775  0.043249   \n",
       "2018-06-30       -0.142278      0.430896       0.283637  0.035441   \n",
       "\n",
       "            Asset_Turnover  Current_Ratio  1yr_share_issue   accrual  \\\n",
       "Date                                                                   \n",
       "2017-06-30        0.131551       1.388342        -0.006946  0.110313   \n",
       "2017-09-30        0.140091       1.276063        -0.008466 -0.132517   \n",
       "2017-12-31        0.217046       1.242011        -0.008729 -0.002762   \n",
       "2018-03-31        0.166358       1.456034        -0.027607  0.503106   \n",
       "2018-06-30        0.151860       1.307325        -0.020512 -0.353898   \n",
       "\n",
       "            asset_growth  div_yield  \n",
       "Date                                 \n",
       "2017-06-30      0.031313   0.004374  \n",
       "2017-09-30      0.083731   0.004088  \n",
       "2017-12-31      0.080531   0.003723  \n",
       "2018-03-31     -0.101578   0.003755  \n",
       "2018-06-30     -0.051093   0.003944  "
      ]
     },
     "execution_count": 8,
     "metadata": {},
     "output_type": "execute_result"
    }
   ],
   "source": [
    "# AAPL_Fundamental data\n",
    "df_fdmtl = pd.read_csv(\"AAPL_Fundamental_Clean.csv\",parse_dates=True,index_col=[0])\n",
    "df_fdmtl.tail()"
   ]
  },
  {
   "cell_type": "code",
   "execution_count": 9,
   "metadata": {
    "colab": {},
    "colab_type": "code",
    "id": "0vF_gEZY6BWm"
   },
   "outputs": [
    {
     "data": {
      "text/html": [
       "<div>\n",
       "<style scoped>\n",
       "    .dataframe tbody tr th:only-of-type {\n",
       "        vertical-align: middle;\n",
       "    }\n",
       "\n",
       "    .dataframe tbody tr th {\n",
       "        vertical-align: top;\n",
       "    }\n",
       "\n",
       "    .dataframe thead th {\n",
       "        text-align: right;\n",
       "    }\n",
       "</style>\n",
       "<table border=\"1\" class=\"dataframe\">\n",
       "  <thead>\n",
       "    <tr style=\"text-align: right;\">\n",
       "      <th></th>\n",
       "      <th>DGS10</th>\n",
       "    </tr>\n",
       "    <tr>\n",
       "      <th>DATE</th>\n",
       "      <th></th>\n",
       "    </tr>\n",
       "  </thead>\n",
       "  <tbody>\n",
       "    <tr>\n",
       "      <th>2005-01-03</th>\n",
       "      <td>4.23</td>\n",
       "    </tr>\n",
       "    <tr>\n",
       "      <th>2005-01-04</th>\n",
       "      <td>4.29</td>\n",
       "    </tr>\n",
       "    <tr>\n",
       "      <th>2005-01-05</th>\n",
       "      <td>4.29</td>\n",
       "    </tr>\n",
       "    <tr>\n",
       "      <th>2005-01-06</th>\n",
       "      <td>4.29</td>\n",
       "    </tr>\n",
       "    <tr>\n",
       "      <th>2005-01-07</th>\n",
       "      <td>4.29</td>\n",
       "    </tr>\n",
       "  </tbody>\n",
       "</table>\n",
       "</div>"
      ],
      "text/plain": [
       "           DGS10\n",
       "DATE            \n",
       "2005-01-03  4.23\n",
       "2005-01-04  4.29\n",
       "2005-01-05  4.29\n",
       "2005-01-06  4.29\n",
       "2005-01-07  4.29"
      ]
     },
     "execution_count": 9,
     "metadata": {},
     "output_type": "execute_result"
    }
   ],
   "source": [
    "#Daily Treasury Yield Data\n",
    "df_treasury = pd.read_csv(\"Daily10YrTreasury.csv\", parse_dates=True, index_col=[0])\n",
    "df_treasury.head()"
   ]
  },
  {
   "cell_type": "code",
   "execution_count": 10,
   "metadata": {
    "colab": {},
    "colab_type": "code",
    "id": "Jpb9cZ6C6BWq"
   },
   "outputs": [
    {
     "data": {
      "text/html": [
       "<div>\n",
       "<style scoped>\n",
       "    .dataframe tbody tr th:only-of-type {\n",
       "        vertical-align: middle;\n",
       "    }\n",
       "\n",
       "    .dataframe tbody tr th {\n",
       "        vertical-align: top;\n",
       "    }\n",
       "\n",
       "    .dataframe thead th {\n",
       "        text-align: right;\n",
       "    }\n",
       "</style>\n",
       "<table border=\"1\" class=\"dataframe\">\n",
       "  <thead>\n",
       "    <tr style=\"text-align: right;\">\n",
       "      <th></th>\n",
       "      <th>DGS10</th>\n",
       "    </tr>\n",
       "    <tr>\n",
       "      <th>DATE</th>\n",
       "      <th></th>\n",
       "    </tr>\n",
       "  </thead>\n",
       "  <tbody>\n",
       "    <tr>\n",
       "      <th>2005-01-03</th>\n",
       "      <td>4.23</td>\n",
       "    </tr>\n",
       "    <tr>\n",
       "      <th>2005-01-04</th>\n",
       "      <td>4.29</td>\n",
       "    </tr>\n",
       "    <tr>\n",
       "      <th>2005-01-05</th>\n",
       "      <td>4.29</td>\n",
       "    </tr>\n",
       "    <tr>\n",
       "      <th>2005-01-06</th>\n",
       "      <td>4.29</td>\n",
       "    </tr>\n",
       "    <tr>\n",
       "      <th>2005-01-07</th>\n",
       "      <td>4.29</td>\n",
       "    </tr>\n",
       "  </tbody>\n",
       "</table>\n",
       "</div>"
      ],
      "text/plain": [
       "            DGS10\n",
       "DATE             \n",
       "2005-01-03   4.23\n",
       "2005-01-04   4.29\n",
       "2005-01-05   4.29\n",
       "2005-01-06   4.29\n",
       "2005-01-07   4.29"
      ]
     },
     "execution_count": 10,
     "metadata": {},
     "output_type": "execute_result"
    }
   ],
   "source": [
    "df_treasury = df_treasury.apply(pd.to_numeric,downcast='float',errors='coerce')\n",
    "df_treasury.head()"
   ]
  },
  {
   "cell_type": "code",
   "execution_count": 11,
   "metadata": {
    "colab": {},
    "colab_type": "code",
    "id": "LgtINLao6BWy"
   },
   "outputs": [
    {
     "data": {
      "text/html": [
       "<div>\n",
       "<style scoped>\n",
       "    .dataframe tbody tr th:only-of-type {\n",
       "        vertical-align: middle;\n",
       "    }\n",
       "\n",
       "    .dataframe tbody tr th {\n",
       "        vertical-align: top;\n",
       "    }\n",
       "\n",
       "    .dataframe thead th {\n",
       "        text-align: right;\n",
       "    }\n",
       "</style>\n",
       "<table border=\"1\" class=\"dataframe\">\n",
       "  <thead>\n",
       "    <tr style=\"text-align: right;\">\n",
       "      <th></th>\n",
       "      <th>BAB</th>\n",
       "      <th>MKT</th>\n",
       "      <th>SMB</th>\n",
       "      <th>UMD</th>\n",
       "      <th>RF</th>\n",
       "      <th>HML</th>\n",
       "    </tr>\n",
       "    <tr>\n",
       "      <th>Date</th>\n",
       "      <th></th>\n",
       "      <th></th>\n",
       "      <th></th>\n",
       "      <th></th>\n",
       "      <th></th>\n",
       "      <th></th>\n",
       "    </tr>\n",
       "  </thead>\n",
       "  <tbody>\n",
       "    <tr>\n",
       "      <th>2006-01-02</th>\n",
       "      <td>-0.000139</td>\n",
       "      <td>-0.000160</td>\n",
       "      <td>1.614524e-19</td>\n",
       "      <td>-1.161759e-19</td>\n",
       "      <td>0.00016</td>\n",
       "      <td>-2.880574e-20</td>\n",
       "    </tr>\n",
       "    <tr>\n",
       "      <th>2006-01-03</th>\n",
       "      <td>-0.003332</td>\n",
       "      <td>0.016261</td>\n",
       "      <td>-2.597775e-03</td>\n",
       "      <td>1.025627e-02</td>\n",
       "      <td>0.00016</td>\n",
       "      <td>-3.760797e-03</td>\n",
       "    </tr>\n",
       "    <tr>\n",
       "      <th>2006-01-04</th>\n",
       "      <td>-0.000282</td>\n",
       "      <td>0.005274</td>\n",
       "      <td>2.070249e-03</td>\n",
       "      <td>2.835798e-03</td>\n",
       "      <td>0.00016</td>\n",
       "      <td>-1.526881e-03</td>\n",
       "    </tr>\n",
       "    <tr>\n",
       "      <th>2006-01-05</th>\n",
       "      <td>-0.006217</td>\n",
       "      <td>-0.000490</td>\n",
       "      <td>3.342761e-03</td>\n",
       "      <td>-7.531429e-03</td>\n",
       "      <td>0.00016</td>\n",
       "      <td>6.883171e-04</td>\n",
       "    </tr>\n",
       "    <tr>\n",
       "      <th>2006-01-06</th>\n",
       "      <td>-0.000565</td>\n",
       "      <td>0.009639</td>\n",
       "      <td>-1.702536e-04</td>\n",
       "      <td>3.965346e-03</td>\n",
       "      <td>0.00016</td>\n",
       "      <td>-4.823919e-03</td>\n",
       "    </tr>\n",
       "  </tbody>\n",
       "</table>\n",
       "</div>"
      ],
      "text/plain": [
       "                 BAB       MKT           SMB           UMD       RF  \\\n",
       "Date                                                                  \n",
       "2006-01-02 -0.000139 -0.000160  1.614524e-19 -1.161759e-19  0.00016   \n",
       "2006-01-03 -0.003332  0.016261 -2.597775e-03  1.025627e-02  0.00016   \n",
       "2006-01-04 -0.000282  0.005274  2.070249e-03  2.835798e-03  0.00016   \n",
       "2006-01-05 -0.006217 -0.000490  3.342761e-03 -7.531429e-03  0.00016   \n",
       "2006-01-06 -0.000565  0.009639 -1.702536e-04  3.965346e-03  0.00016   \n",
       "\n",
       "                     HML  \n",
       "Date                      \n",
       "2006-01-02 -2.880574e-20  \n",
       "2006-01-03 -3.760797e-03  \n",
       "2006-01-04 -1.526881e-03  \n",
       "2006-01-05  6.883171e-04  \n",
       "2006-01-06 -4.823919e-03  "
      ]
     },
     "execution_count": 11,
     "metadata": {},
     "output_type": "execute_result"
    }
   ],
   "source": [
    "#AQR factor returns Data\n",
    "df_aqr = pd.read_excel(\"aqr_factor_returns.xlsx\", parse_dates=True, index_col=[0])\n",
    "df_aqr = df_aqr.loc[df_aqr.index.year>=2006,:]\n",
    "df_aqr.head()"
   ]
  },
  {
   "cell_type": "code",
   "execution_count": 12,
   "metadata": {
    "colab": {},
    "colab_type": "code",
    "id": "eZDD2oht6BW2"
   },
   "outputs": [
    {
     "data": {
      "text/html": [
       "<div>\n",
       "<style scoped>\n",
       "    .dataframe tbody tr th:only-of-type {\n",
       "        vertical-align: middle;\n",
       "    }\n",
       "\n",
       "    .dataframe tbody tr th {\n",
       "        vertical-align: top;\n",
       "    }\n",
       "\n",
       "    .dataframe thead th {\n",
       "        text-align: right;\n",
       "    }\n",
       "</style>\n",
       "<table border=\"1\" class=\"dataframe\">\n",
       "  <thead>\n",
       "    <tr style=\"text-align: right;\">\n",
       "      <th></th>\n",
       "      <th>compound</th>\n",
       "      <th>neg</th>\n",
       "      <th>neu</th>\n",
       "      <th>pos</th>\n",
       "    </tr>\n",
       "    <tr>\n",
       "      <th>Date</th>\n",
       "      <th></th>\n",
       "      <th></th>\n",
       "      <th></th>\n",
       "      <th></th>\n",
       "    </tr>\n",
       "  </thead>\n",
       "  <tbody>\n",
       "    <tr>\n",
       "      <th>2006-03-13</th>\n",
       "      <td>-0.0516</td>\n",
       "      <td>0.132</td>\n",
       "      <td>0.69</td>\n",
       "      <td>0.178</td>\n",
       "    </tr>\n",
       "    <tr>\n",
       "      <th>2006-03-14</th>\n",
       "      <td>0.0000</td>\n",
       "      <td>0.000</td>\n",
       "      <td>1.00</td>\n",
       "      <td>0.000</td>\n",
       "    </tr>\n",
       "    <tr>\n",
       "      <th>2006-03-15</th>\n",
       "      <td>0.0000</td>\n",
       "      <td>0.000</td>\n",
       "      <td>0.00</td>\n",
       "      <td>0.000</td>\n",
       "    </tr>\n",
       "    <tr>\n",
       "      <th>2006-03-16</th>\n",
       "      <td>0.0000</td>\n",
       "      <td>0.000</td>\n",
       "      <td>0.00</td>\n",
       "      <td>0.000</td>\n",
       "    </tr>\n",
       "    <tr>\n",
       "      <th>2006-03-17</th>\n",
       "      <td>0.0000</td>\n",
       "      <td>0.000</td>\n",
       "      <td>0.00</td>\n",
       "      <td>0.000</td>\n",
       "    </tr>\n",
       "  </tbody>\n",
       "</table>\n",
       "</div>"
      ],
      "text/plain": [
       "            compound    neg   neu    pos\n",
       "Date                                    \n",
       "2006-03-13   -0.0516  0.132  0.69  0.178\n",
       "2006-03-14    0.0000  0.000  1.00  0.000\n",
       "2006-03-15    0.0000  0.000  0.00  0.000\n",
       "2006-03-16    0.0000  0.000  0.00  0.000\n",
       "2006-03-17    0.0000  0.000  0.00  0.000"
      ]
     },
     "execution_count": 12,
     "metadata": {},
     "output_type": "execute_result"
    }
   ],
   "source": [
    "#News Data\n",
    "df_news = pd.read_csv(\"News Sentiment Data.csv\", parse_dates=True, index_col=[0])\n",
    "df_news = df_news.loc[df_news.index.year>=2006,:]\n",
    "df_news.head()"
   ]
  },
  {
   "cell_type": "code",
   "execution_count": 13,
   "metadata": {
    "colab": {},
    "colab_type": "code",
    "id": "vFN14MhC6BW6"
   },
   "outputs": [
    {
     "name": "stdout",
     "output_type": "stream",
     "text": [
      "(666, 1)\n"
     ]
    },
    {
     "data": {
      "text/html": [
       "<div>\n",
       "<style scoped>\n",
       "    .dataframe tbody tr th:only-of-type {\n",
       "        vertical-align: middle;\n",
       "    }\n",
       "\n",
       "    .dataframe tbody tr th {\n",
       "        vertical-align: top;\n",
       "    }\n",
       "\n",
       "    .dataframe thead th {\n",
       "        text-align: right;\n",
       "    }\n",
       "</style>\n",
       "<table border=\"1\" class=\"dataframe\">\n",
       "  <thead>\n",
       "    <tr style=\"text-align: right;\">\n",
       "      <th></th>\n",
       "      <th>aapl: (Worldwide)</th>\n",
       "    </tr>\n",
       "    <tr>\n",
       "      <th>Week</th>\n",
       "      <th></th>\n",
       "    </tr>\n",
       "  </thead>\n",
       "  <tbody>\n",
       "    <tr>\n",
       "      <th>2006-01-01</th>\n",
       "      <td>31</td>\n",
       "    </tr>\n",
       "    <tr>\n",
       "      <th>2006-01-08</th>\n",
       "      <td>72</td>\n",
       "    </tr>\n",
       "    <tr>\n",
       "      <th>2006-01-15</th>\n",
       "      <td>55</td>\n",
       "    </tr>\n",
       "    <tr>\n",
       "      <th>2006-01-22</th>\n",
       "      <td>49</td>\n",
       "    </tr>\n",
       "    <tr>\n",
       "      <th>2006-01-29</th>\n",
       "      <td>40</td>\n",
       "    </tr>\n",
       "  </tbody>\n",
       "</table>\n",
       "</div>"
      ],
      "text/plain": [
       "            aapl: (Worldwide)\n",
       "Week                         \n",
       "2006-01-01                 31\n",
       "2006-01-08                 72\n",
       "2006-01-15                 55\n",
       "2006-01-22                 49\n",
       "2006-01-29                 40"
      ]
     },
     "execution_count": 13,
     "metadata": {},
     "output_type": "execute_result"
    }
   ],
   "source": [
    "# google trends news\n",
    "# watch out for duplicates.\n",
    "df_trend = pd.read_csv(\"google_weekly_trends.csv\", parse_dates=True, index_col=[0])\n",
    "print(df_trend.shape)\n",
    "df_trend = df_trend[~df_trend.index.duplicated(keep='first')]\n",
    "df_trend.head()"
   ]
  },
  {
   "cell_type": "code",
   "execution_count": 14,
   "metadata": {
    "colab": {},
    "colab_type": "code",
    "id": "MfX4AG9s6BW9"
   },
   "outputs": [],
   "source": [
    "# df_trend.tail()"
   ]
  },
  {
   "cell_type": "code",
   "execution_count": 15,
   "metadata": {
    "colab": {},
    "colab_type": "code",
    "id": "7PZavX1Z6BXB"
   },
   "outputs": [
    {
     "data": {
      "text/html": [
       "<div>\n",
       "<style scoped>\n",
       "    .dataframe tbody tr th:only-of-type {\n",
       "        vertical-align: middle;\n",
       "    }\n",
       "\n",
       "    .dataframe tbody tr th {\n",
       "        vertical-align: top;\n",
       "    }\n",
       "\n",
       "    .dataframe thead th {\n",
       "        text-align: right;\n",
       "    }\n",
       "</style>\n",
       "<table border=\"1\" class=\"dataframe\">\n",
       "  <thead>\n",
       "    <tr style=\"text-align: right;\">\n",
       "      <th></th>\n",
       "      <th>AAPL US Equity Hist Vol (10)</th>\n",
       "      <th>AAPL US Equity Hist Vol (30)</th>\n",
       "      <th>AAPL US Equity Hist Vol (50)</th>\n",
       "      <th>AAPL US Equity Hist Vol (100)</th>\n",
       "    </tr>\n",
       "    <tr>\n",
       "      <th>Date</th>\n",
       "      <th></th>\n",
       "      <th></th>\n",
       "      <th></th>\n",
       "      <th></th>\n",
       "    </tr>\n",
       "  </thead>\n",
       "  <tbody>\n",
       "    <tr>\n",
       "      <th>2000-01-03</th>\n",
       "      <td>63.063870</td>\n",
       "      <td>58.338980</td>\n",
       "      <td>55.738532</td>\n",
       "      <td>64.623352</td>\n",
       "    </tr>\n",
       "    <tr>\n",
       "      <th>2000-01-04</th>\n",
       "      <td>80.509331</td>\n",
       "      <td>64.468167</td>\n",
       "      <td>60.012288</td>\n",
       "      <td>66.405002</td>\n",
       "    </tr>\n",
       "    <tr>\n",
       "      <th>2000-01-05</th>\n",
       "      <td>79.276051</td>\n",
       "      <td>64.265010</td>\n",
       "      <td>60.040377</td>\n",
       "      <td>66.420850</td>\n",
       "    </tr>\n",
       "    <tr>\n",
       "      <th>2000-01-06</th>\n",
       "      <td>91.327787</td>\n",
       "      <td>69.964591</td>\n",
       "      <td>64.009661</td>\n",
       "      <td>68.206787</td>\n",
       "    </tr>\n",
       "    <tr>\n",
       "      <th>2000-01-07</th>\n",
       "      <td>93.528546</td>\n",
       "      <td>71.315182</td>\n",
       "      <td>64.645383</td>\n",
       "      <td>68.527751</td>\n",
       "    </tr>\n",
       "  </tbody>\n",
       "</table>\n",
       "</div>"
      ],
      "text/plain": [
       "            AAPL US Equity Hist Vol (10)  AAPL US Equity Hist Vol (30)  \\\n",
       "Date                                                                     \n",
       "2000-01-03                     63.063870                     58.338980   \n",
       "2000-01-04                     80.509331                     64.468167   \n",
       "2000-01-05                     79.276051                     64.265010   \n",
       "2000-01-06                     91.327787                     69.964591   \n",
       "2000-01-07                     93.528546                     71.315182   \n",
       "\n",
       "            AAPL US Equity Hist Vol (50)  AAPL US Equity Hist Vol (100)  \n",
       "Date                                                                     \n",
       "2000-01-03                     55.738532                      64.623352  \n",
       "2000-01-04                     60.012288                      66.405002  \n",
       "2000-01-05                     60.040377                      66.420850  \n",
       "2000-01-06                     64.009661                      68.206787  \n",
       "2000-01-07                     64.645383                      68.527751  "
      ]
     },
     "execution_count": 15,
     "metadata": {},
     "output_type": "execute_result"
    }
   ],
   "source": [
    "#IV Data \n",
    "dfIV = pd.read_csv('AAPLIVClean.csv', parse_dates=True, index_col=[0])\n",
    "dfIV = dfIV.iloc[::-1]\n",
    "dfIV.head()"
   ]
  },
  {
   "cell_type": "code",
   "execution_count": 16,
   "metadata": {
    "colab": {},
    "colab_type": "code",
    "id": "MubIeYhb6BXE"
   },
   "outputs": [
    {
     "data": {
      "text/html": [
       "<div>\n",
       "<style scoped>\n",
       "    .dataframe tbody tr th:only-of-type {\n",
       "        vertical-align: middle;\n",
       "    }\n",
       "\n",
       "    .dataframe tbody tr th {\n",
       "        vertical-align: top;\n",
       "    }\n",
       "\n",
       "    .dataframe thead th {\n",
       "        text-align: right;\n",
       "    }\n",
       "</style>\n",
       "<table border=\"1\" class=\"dataframe\">\n",
       "  <thead>\n",
       "    <tr style=\"text-align: right;\">\n",
       "      <th></th>\n",
       "      <th>PX_LAST</th>\n",
       "      <th>FutDiff</th>\n",
       "    </tr>\n",
       "    <tr>\n",
       "      <th>Dates</th>\n",
       "      <th></th>\n",
       "      <th></th>\n",
       "    </tr>\n",
       "  </thead>\n",
       "  <tbody>\n",
       "    <tr>\n",
       "      <th>2010-12-08</th>\n",
       "      <td>45.8614</td>\n",
       "      <td>0.3971</td>\n",
       "    </tr>\n",
       "    <tr>\n",
       "      <th>2010-12-09</th>\n",
       "      <td>45.7043</td>\n",
       "      <td>-0.1571</td>\n",
       "    </tr>\n",
       "    <tr>\n",
       "      <th>2010-12-10</th>\n",
       "      <td>45.7971</td>\n",
       "      <td>0.0928</td>\n",
       "    </tr>\n",
       "    <tr>\n",
       "      <th>2010-12-13</th>\n",
       "      <td>45.9529</td>\n",
       "      <td>0.1558</td>\n",
       "    </tr>\n",
       "    <tr>\n",
       "      <th>2010-12-14</th>\n",
       "      <td>45.7586</td>\n",
       "      <td>-0.1943</td>\n",
       "    </tr>\n",
       "  </tbody>\n",
       "</table>\n",
       "</div>"
      ],
      "text/plain": [
       "            PX_LAST  FutDiff\n",
       "Dates                       \n",
       "2010-12-08  45.8614   0.3971\n",
       "2010-12-09  45.7043  -0.1571\n",
       "2010-12-10  45.7971   0.0928\n",
       "2010-12-13  45.9529   0.1558\n",
       "2010-12-14  45.7586  -0.1943"
      ]
     },
     "execution_count": 16,
     "metadata": {},
     "output_type": "execute_result"
    }
   ],
   "source": [
    "## AAPL Fut data\n",
    "dfFut = pd.read_csv('AAPLFutClean.csv', parse_dates=True, index_col=[0])\n",
    "dfFut.head()"
   ]
  },
  {
   "cell_type": "markdown",
   "metadata": {
    "colab_type": "text",
    "id": "LiyHIphA6BXK"
   },
   "source": [
    "# Step 2: Data Health Check"
   ]
  },
  {
   "cell_type": "code",
   "execution_count": 17,
   "metadata": {
    "colab": {},
    "colab_type": "code",
    "id": "UFFioUy56BXK"
   },
   "outputs": [
    {
     "name": "stdout",
     "output_type": "stream",
     "text": [
      "0\n",
      "0\n",
      "0\n",
      "0\n",
      "0\n",
      "0\n",
      "0\n",
      "0\n",
      "0\n",
      "0\n",
      "0\n",
      "0\n",
      "0\n",
      "0\n"
     ]
    }
   ],
   "source": [
    "for df in [ df_AAPL,\n",
    "            df_SP500,\n",
    "            df_VIX,\n",
    "            df_Curr,\n",
    "            df_patent,\n",
    "            df_GDP,\n",
    "            df_CPI,\n",
    "            df_fdmtl,\n",
    "            df_treasury,\n",
    "            df_aqr,\n",
    "            df_news,\n",
    "            df_trend,\n",
    "            dfIV,\n",
    "            dfFut\n",
    "              ]:\n",
    "    print (sum(df.index.duplicated(keep='first')))"
   ]
  },
  {
   "cell_type": "code",
   "execution_count": 18,
   "metadata": {
    "colab": {},
    "colab_type": "code",
    "id": "lVNPW4DNXt0I"
   },
   "outputs": [],
   "source": [
    "# concat won't work if there is any duplicates in any df, join would work.\n",
    "df_concat = pd.concat([df_AAPL,\n",
    "                       df_SP500,\n",
    "                       df_VIX,\n",
    "                       df_Curr,\n",
    "                       df_patent,\n",
    "                       df_GDP,\n",
    "                       df_CPI,\n",
    "                       df_fdmtl,\n",
    "                       df_treasury,\n",
    "                       df_aqr,\n",
    "                       df_news,\n",
    "                       df_trend,\n",
    "                       dfIV,\n",
    "                       dfFut\n",
    "                      ], axis = 1)"
   ]
  },
  {
   "cell_type": "code",
   "execution_count": 19,
   "metadata": {
    "colab": {},
    "colab_type": "code",
    "id": "SGQqx4RS6BXR"
   },
   "outputs": [
    {
     "data": {
      "text/plain": [
       "0"
      ]
     },
     "execution_count": 19,
     "metadata": {},
     "output_type": "execute_result"
    }
   ],
   "source": [
    "# No duplicate, good!\n",
    "sum(df_concat.index.duplicated(keep='first'))"
   ]
  },
  {
   "cell_type": "markdown",
   "metadata": {
    "colab_type": "text",
    "id": "JeFsJKyaXt0I"
   },
   "source": [
    "# Step 3: Data Cleaning  & Step 4: Feature Engineering"
   ]
  },
  {
   "cell_type": "markdown",
   "metadata": {
    "colab_type": "text",
    "id": "boQxIRqiXt0S"
   },
   "source": [
    "#### Create labels and construct variables"
   ]
  },
  {
   "cell_type": "code",
   "execution_count": 20,
   "metadata": {
    "colab": {},
    "colab_type": "code",
    "id": "q6BpgMeu6BXV"
   },
   "outputs": [],
   "source": [
    "# forward filling , making sure no NaN value while not creating future-bias\n",
    "df_concat.fillna(method='ffill',inplace=True) \n",
    "\n",
    "# # only the trading dates\n",
    "list_trading_date = df_AAPL.index\n",
    "df_concat = df_concat.loc[list_trading_date,:]\n"
   ]
  },
  {
   "cell_type": "code",
   "execution_count": 21,
   "metadata": {
    "colab": {},
    "colab_type": "code",
    "id": "ovmpIUcy6BXY"
   },
   "outputs": [
    {
     "data": {
      "text/plain": [
       "Index(['Open_AAPL', 'High_AAPL', 'Low_AAPL', 'Close_AAPL', 'Adj Close_AAPL',\n",
       "       'Volume_AAPL', 'Open_SP500', 'High_SP500', 'Low_SP500', 'Close_SP500',\n",
       "       'Adj Close_SP500', 'Volume_SP500', 'Open_VIX', 'High_VIX', 'Low_VIX',\n",
       "       'Close_VIX', 'Adj Close_VIX', 'Volume_VIX', 'USDEUR', 'USDYuan',\n",
       "       'totpats', 'GDPC1', 'CPIAUCSL', 'Revenue_growth', 'Gross_Margin',\n",
       "       'EBITDA_Margin', 'ROA', 'Asset_Turnover', 'Current_Ratio',\n",
       "       '1yr_share_issue', 'accrual', 'asset_growth', 'div_yield', 'DGS10',\n",
       "       'BAB', 'MKT', 'SMB', 'UMD', 'RF', 'HML', 'compound', 'neg', 'neu',\n",
       "       'pos', 'aapl: (Worldwide)', 'AAPL US Equity Hist Vol (10)',\n",
       "       'AAPL US Equity Hist Vol (30)', 'AAPL US Equity Hist Vol (50)',\n",
       "       'AAPL US Equity Hist Vol (100)', 'PX_LAST', 'FutDiff',\n",
       "       'AAPL Adj Close Diff', 'Direction', 'Return_(t-1)_t_AAPL',\n",
       "       'Return_(t-2)_t_AAPL', 'Return_(t-3)_(t-1)_AAPL', 'Return_(t-1)_t_SP',\n",
       "       'Open_Close_Diff_AAPL', 'High_Low_Diff_AAPL', 'Open_Close_Diff_VIX',\n",
       "       'High_Low_Diff_VIX', 'Chg_in_volume'],\n",
       "      dtype='object')"
      ]
     },
     "execution_count": 21,
     "metadata": {},
     "output_type": "execute_result"
    }
   ],
   "source": [
    "\n",
    "# create labels\n",
    "df_concat['AAPL Adj Close Diff'] = df_concat.loc[:,['Adj Close_AAPL']].diff()\n",
    "df_concat['Direction'] = df_concat['AAPL Adj Close Diff'].apply(lambda x: 1 if x > 0 else 0)\n",
    "df_concat.head()\n",
    "\n",
    "# Return data\n",
    "df_concat['Return_(t-1)_t_AAPL'] = df_concat[['Adj Close_AAPL']].pct_change(1)\n",
    "df_concat['Return_(t-2)_t_AAPL'] = df_concat[['Adj Close_AAPL']].pct_change(periods=2)\n",
    "df_concat['Return_(t-3)_(t-1)_AAPL'] = df_concat[['Adj Close_AAPL']].shift(1)/df_concat[['Adj Close_AAPL']].shift(3) - 1\n",
    "df_concat['Return_(t-1)_t_SP'] = df_concat[['Adj Close_SP500']].pct_change(1)\n",
    "\n",
    "# change in price\n",
    "df_concat['Open_Close_Diff_AAPL'] = df_concat['Close_AAPL']-df_concat['Open_AAPL']\n",
    "df_concat['High_Low_Diff_AAPL'] = df_concat['High_AAPL']-df_concat['Low_AAPL']\n",
    "df_concat['Open_Close_Diff_VIX'] = df_concat['Close_VIX']-df_concat['Open_VIX']\n",
    "df_concat['High_Low_Diff_VIX'] = df_concat['High_VIX']-df_concat['Low_VIX']\n",
    "df_concat['Chg_in_volume'] = df_concat[['Volume_AAPL']].pct_change(1)\n",
    "\n",
    "df_concat.columns"
   ]
  },
  {
   "cell_type": "code",
   "execution_count": 22,
   "metadata": {
    "colab": {},
    "colab_type": "code",
    "id": "7LDllYlrXt0M"
   },
   "outputs": [
    {
     "name": "stdout",
     "output_type": "stream",
     "text": [
      "how many NaN's in df:  2236\n",
      "0\n"
     ]
    }
   ],
   "source": [
    "\n",
    "# # select time horizon\n",
    "df_concat = df_concat.loc[(df_concat.index>='2006-06-30') & (df_concat.index<'2018-07-01'),:]\n",
    "\n",
    "# check: how many NA is there\n",
    "print(\"how many NaN's in df: \",df_concat.isnull().sum().sum()) \n",
    "\n",
    "# check: 0 implies no duplicates\n",
    "print(sum(df_concat.index.duplicated(keep='first')))"
   ]
  },
  {
   "cell_type": "code",
   "execution_count": 23,
   "metadata": {
    "colab": {},
    "colab_type": "code",
    "id": "zPX5iSil6BXe"
   },
   "outputs": [
    {
     "data": {
      "text/html": [
       "<div>\n",
       "<style scoped>\n",
       "    .dataframe tbody tr th:only-of-type {\n",
       "        vertical-align: middle;\n",
       "    }\n",
       "\n",
       "    .dataframe tbody tr th {\n",
       "        vertical-align: top;\n",
       "    }\n",
       "\n",
       "    .dataframe thead th {\n",
       "        text-align: right;\n",
       "    }\n",
       "</style>\n",
       "<table border=\"1\" class=\"dataframe\">\n",
       "  <thead>\n",
       "    <tr style=\"text-align: right;\">\n",
       "      <th></th>\n",
       "      <th>Open_AAPL</th>\n",
       "      <th>High_AAPL</th>\n",
       "      <th>Low_AAPL</th>\n",
       "      <th>Close_AAPL</th>\n",
       "      <th>Adj Close_AAPL</th>\n",
       "      <th>Volume_AAPL</th>\n",
       "      <th>Open_SP500</th>\n",
       "      <th>High_SP500</th>\n",
       "      <th>Low_SP500</th>\n",
       "      <th>Close_SP500</th>\n",
       "      <th>...</th>\n",
       "      <th>Direction</th>\n",
       "      <th>Return_(t-1)_t_AAPL</th>\n",
       "      <th>Return_(t-2)_t_AAPL</th>\n",
       "      <th>Return_(t-3)_(t-1)_AAPL</th>\n",
       "      <th>Return_(t-1)_t_SP</th>\n",
       "      <th>Open_Close_Diff_AAPL</th>\n",
       "      <th>High_Low_Diff_AAPL</th>\n",
       "      <th>Open_Close_Diff_VIX</th>\n",
       "      <th>High_Low_Diff_VIX</th>\n",
       "      <th>Chg_in_volume</th>\n",
       "    </tr>\n",
       "    <tr>\n",
       "      <th>Date</th>\n",
       "      <th></th>\n",
       "      <th></th>\n",
       "      <th></th>\n",
       "      <th></th>\n",
       "      <th></th>\n",
       "      <th></th>\n",
       "      <th></th>\n",
       "      <th></th>\n",
       "      <th></th>\n",
       "      <th></th>\n",
       "      <th></th>\n",
       "      <th></th>\n",
       "      <th></th>\n",
       "      <th></th>\n",
       "      <th></th>\n",
       "      <th></th>\n",
       "      <th></th>\n",
       "      <th></th>\n",
       "      <th></th>\n",
       "      <th></th>\n",
       "      <th></th>\n",
       "    </tr>\n",
       "  </thead>\n",
       "  <tbody>\n",
       "    <tr>\n",
       "      <th>2006-06-30</th>\n",
       "      <td>8.227143</td>\n",
       "      <td>8.250000</td>\n",
       "      <td>8.071428</td>\n",
       "      <td>8.181429</td>\n",
       "      <td>7.250839</td>\n",
       "      <td>184923900.0</td>\n",
       "      <td>1272.859985</td>\n",
       "      <td>1276.300049</td>\n",
       "      <td>1270.199951</td>\n",
       "      <td>1270.199951</td>\n",
       "      <td>...</td>\n",
       "      <td>0</td>\n",
       "      <td>-0.028828</td>\n",
       "      <td>0.022314</td>\n",
       "      <td>0.026815</td>\n",
       "      <td>-0.002098</td>\n",
       "      <td>-0.045714</td>\n",
       "      <td>0.178572</td>\n",
       "      <td>0.180000</td>\n",
       "      <td>0.73</td>\n",
       "      <td>-0.153083</td>\n",
       "    </tr>\n",
       "    <tr>\n",
       "      <th>2006-07-03</th>\n",
       "      <td>8.217143</td>\n",
       "      <td>8.311429</td>\n",
       "      <td>8.191428</td>\n",
       "      <td>8.278571</td>\n",
       "      <td>7.336932</td>\n",
       "      <td>48692700.0</td>\n",
       "      <td>1270.060059</td>\n",
       "      <td>1280.380005</td>\n",
       "      <td>1270.060059</td>\n",
       "      <td>1280.189941</td>\n",
       "      <td>...</td>\n",
       "      <td>1</td>\n",
       "      <td>0.011874</td>\n",
       "      <td>-0.017297</td>\n",
       "      <td>0.022314</td>\n",
       "      <td>0.007865</td>\n",
       "      <td>0.061428</td>\n",
       "      <td>0.120001</td>\n",
       "      <td>-0.240000</td>\n",
       "      <td>0.74</td>\n",
       "      <td>-0.736688</td>\n",
       "    </tr>\n",
       "    <tr>\n",
       "      <th>2006-07-05</th>\n",
       "      <td>8.164286</td>\n",
       "      <td>8.228572</td>\n",
       "      <td>8.080000</td>\n",
       "      <td>8.142858</td>\n",
       "      <td>7.216655</td>\n",
       "      <td>129560200.0</td>\n",
       "      <td>1280.050049</td>\n",
       "      <td>1280.050049</td>\n",
       "      <td>1265.910034</td>\n",
       "      <td>1270.910034</td>\n",
       "      <td>...</td>\n",
       "      <td>0</td>\n",
       "      <td>-0.016393</td>\n",
       "      <td>-0.004714</td>\n",
       "      <td>-0.017297</td>\n",
       "      <td>-0.007249</td>\n",
       "      <td>-0.021428</td>\n",
       "      <td>0.148572</td>\n",
       "      <td>0.230000</td>\n",
       "      <td>0.91</td>\n",
       "      <td>1.660773</td>\n",
       "    </tr>\n",
       "    <tr>\n",
       "      <th>2006-07-06</th>\n",
       "      <td>8.155714</td>\n",
       "      <td>8.200000</td>\n",
       "      <td>7.944286</td>\n",
       "      <td>7.967143</td>\n",
       "      <td>7.060928</td>\n",
       "      <td>158302200.0</td>\n",
       "      <td>1270.579956</td>\n",
       "      <td>1278.319946</td>\n",
       "      <td>1270.579956</td>\n",
       "      <td>1274.079956</td>\n",
       "      <td>...</td>\n",
       "      <td>0</td>\n",
       "      <td>-0.021579</td>\n",
       "      <td>-0.037618</td>\n",
       "      <td>-0.004714</td>\n",
       "      <td>0.002494</td>\n",
       "      <td>-0.188571</td>\n",
       "      <td>0.255714</td>\n",
       "      <td>-0.390000</td>\n",
       "      <td>0.79</td>\n",
       "      <td>0.221843</td>\n",
       "    </tr>\n",
       "    <tr>\n",
       "      <th>2006-07-07</th>\n",
       "      <td>7.925714</td>\n",
       "      <td>8.078571</td>\n",
       "      <td>7.810000</td>\n",
       "      <td>7.914286</td>\n",
       "      <td>7.014081</td>\n",
       "      <td>199840200.0</td>\n",
       "      <td>1274.079956</td>\n",
       "      <td>1275.380005</td>\n",
       "      <td>1263.130005</td>\n",
       "      <td>1265.479980</td>\n",
       "      <td>...</td>\n",
       "      <td>0</td>\n",
       "      <td>-0.006635</td>\n",
       "      <td>-0.028070</td>\n",
       "      <td>-0.037618</td>\n",
       "      <td>-0.006750</td>\n",
       "      <td>-0.011428</td>\n",
       "      <td>0.268571</td>\n",
       "      <td>0.070000</td>\n",
       "      <td>1.02</td>\n",
       "      <td>0.262397</td>\n",
       "    </tr>\n",
       "    <tr>\n",
       "      <th>2006-07-10</th>\n",
       "      <td>7.957143</td>\n",
       "      <td>8.070000</td>\n",
       "      <td>7.785714</td>\n",
       "      <td>7.857143</td>\n",
       "      <td>6.963437</td>\n",
       "      <td>132336400.0</td>\n",
       "      <td>1265.459961</td>\n",
       "      <td>1274.060059</td>\n",
       "      <td>1264.459961</td>\n",
       "      <td>1267.339966</td>\n",
       "      <td>...</td>\n",
       "      <td>0</td>\n",
       "      <td>-0.007220</td>\n",
       "      <td>-0.013807</td>\n",
       "      <td>-0.028070</td>\n",
       "      <td>0.001470</td>\n",
       "      <td>-0.100000</td>\n",
       "      <td>0.284286</td>\n",
       "      <td>-0.150000</td>\n",
       "      <td>0.83</td>\n",
       "      <td>-0.337789</td>\n",
       "    </tr>\n",
       "    <tr>\n",
       "      <th>2006-07-11</th>\n",
       "      <td>7.872857</td>\n",
       "      <td>7.998571</td>\n",
       "      <td>7.790000</td>\n",
       "      <td>7.950000</td>\n",
       "      <td>7.045733</td>\n",
       "      <td>206255700.0</td>\n",
       "      <td>1267.260010</td>\n",
       "      <td>1273.640015</td>\n",
       "      <td>1259.650024</td>\n",
       "      <td>1272.430054</td>\n",
       "      <td>...</td>\n",
       "      <td>1</td>\n",
       "      <td>0.011818</td>\n",
       "      <td>0.004513</td>\n",
       "      <td>-0.013807</td>\n",
       "      <td>0.004016</td>\n",
       "      <td>0.077143</td>\n",
       "      <td>0.208571</td>\n",
       "      <td>-1.170000</td>\n",
       "      <td>1.58</td>\n",
       "      <td>0.558571</td>\n",
       "    </tr>\n",
       "    <tr>\n",
       "      <th>2006-07-12</th>\n",
       "      <td>7.881429</td>\n",
       "      <td>7.891428</td>\n",
       "      <td>7.560000</td>\n",
       "      <td>7.565714</td>\n",
       "      <td>6.705158</td>\n",
       "      <td>231832300.0</td>\n",
       "      <td>1272.390015</td>\n",
       "      <td>1273.310059</td>\n",
       "      <td>1257.290039</td>\n",
       "      <td>1258.599976</td>\n",
       "      <td>...</td>\n",
       "      <td>0</td>\n",
       "      <td>-0.048338</td>\n",
       "      <td>-0.037091</td>\n",
       "      <td>0.004513</td>\n",
       "      <td>-0.010869</td>\n",
       "      <td>-0.315715</td>\n",
       "      <td>0.331428</td>\n",
       "      <td>1.100000</td>\n",
       "      <td>1.59</td>\n",
       "      <td>0.124004</td>\n",
       "    </tr>\n",
       "    <tr>\n",
       "      <th>2006-07-13</th>\n",
       "      <td>7.432857</td>\n",
       "      <td>7.731429</td>\n",
       "      <td>7.344285</td>\n",
       "      <td>7.464286</td>\n",
       "      <td>6.615265</td>\n",
       "      <td>312476500.0</td>\n",
       "      <td>1258.579956</td>\n",
       "      <td>1258.579956</td>\n",
       "      <td>1241.430054</td>\n",
       "      <td>1242.280029</td>\n",
       "      <td>...</td>\n",
       "      <td>0</td>\n",
       "      <td>-0.013407</td>\n",
       "      <td>-0.061096</td>\n",
       "      <td>-0.037091</td>\n",
       "      <td>-0.012967</td>\n",
       "      <td>0.031429</td>\n",
       "      <td>0.387144</td>\n",
       "      <td>2.620001</td>\n",
       "      <td>2.66</td>\n",
       "      <td>0.347856</td>\n",
       "    </tr>\n",
       "    <tr>\n",
       "      <th>2006-07-14</th>\n",
       "      <td>7.500000</td>\n",
       "      <td>7.555714</td>\n",
       "      <td>7.165714</td>\n",
       "      <td>7.238572</td>\n",
       "      <td>6.415226</td>\n",
       "      <td>248259200.0</td>\n",
       "      <td>1242.290039</td>\n",
       "      <td>1242.699951</td>\n",
       "      <td>1228.449951</td>\n",
       "      <td>1236.199951</td>\n",
       "      <td>...</td>\n",
       "      <td>0</td>\n",
       "      <td>-0.030239</td>\n",
       "      <td>-0.043240</td>\n",
       "      <td>-0.061096</td>\n",
       "      <td>-0.004894</td>\n",
       "      <td>-0.261428</td>\n",
       "      <td>0.390000</td>\n",
       "      <td>0.479999</td>\n",
       "      <td>1.51</td>\n",
       "      <td>-0.205511</td>\n",
       "    </tr>\n",
       "  </tbody>\n",
       "</table>\n",
       "<p>10 rows × 62 columns</p>\n",
       "</div>"
      ],
      "text/plain": [
       "            Open_AAPL  High_AAPL  Low_AAPL  Close_AAPL  Adj Close_AAPL  \\\n",
       "Date                                                                     \n",
       "2006-06-30   8.227143   8.250000  8.071428    8.181429        7.250839   \n",
       "2006-07-03   8.217143   8.311429  8.191428    8.278571        7.336932   \n",
       "2006-07-05   8.164286   8.228572  8.080000    8.142858        7.216655   \n",
       "2006-07-06   8.155714   8.200000  7.944286    7.967143        7.060928   \n",
       "2006-07-07   7.925714   8.078571  7.810000    7.914286        7.014081   \n",
       "2006-07-10   7.957143   8.070000  7.785714    7.857143        6.963437   \n",
       "2006-07-11   7.872857   7.998571  7.790000    7.950000        7.045733   \n",
       "2006-07-12   7.881429   7.891428  7.560000    7.565714        6.705158   \n",
       "2006-07-13   7.432857   7.731429  7.344285    7.464286        6.615265   \n",
       "2006-07-14   7.500000   7.555714  7.165714    7.238572        6.415226   \n",
       "\n",
       "            Volume_AAPL   Open_SP500   High_SP500    Low_SP500  Close_SP500  \\\n",
       "Date                                                                          \n",
       "2006-06-30  184923900.0  1272.859985  1276.300049  1270.199951  1270.199951   \n",
       "2006-07-03   48692700.0  1270.060059  1280.380005  1270.060059  1280.189941   \n",
       "2006-07-05  129560200.0  1280.050049  1280.050049  1265.910034  1270.910034   \n",
       "2006-07-06  158302200.0  1270.579956  1278.319946  1270.579956  1274.079956   \n",
       "2006-07-07  199840200.0  1274.079956  1275.380005  1263.130005  1265.479980   \n",
       "2006-07-10  132336400.0  1265.459961  1274.060059  1264.459961  1267.339966   \n",
       "2006-07-11  206255700.0  1267.260010  1273.640015  1259.650024  1272.430054   \n",
       "2006-07-12  231832300.0  1272.390015  1273.310059  1257.290039  1258.599976   \n",
       "2006-07-13  312476500.0  1258.579956  1258.579956  1241.430054  1242.280029   \n",
       "2006-07-14  248259200.0  1242.290039  1242.699951  1228.449951  1236.199951   \n",
       "\n",
       "                ...        Direction  Return_(t-1)_t_AAPL  \\\n",
       "Date            ...                                         \n",
       "2006-06-30      ...                0            -0.028828   \n",
       "2006-07-03      ...                1             0.011874   \n",
       "2006-07-05      ...                0            -0.016393   \n",
       "2006-07-06      ...                0            -0.021579   \n",
       "2006-07-07      ...                0            -0.006635   \n",
       "2006-07-10      ...                0            -0.007220   \n",
       "2006-07-11      ...                1             0.011818   \n",
       "2006-07-12      ...                0            -0.048338   \n",
       "2006-07-13      ...                0            -0.013407   \n",
       "2006-07-14      ...                0            -0.030239   \n",
       "\n",
       "            Return_(t-2)_t_AAPL  Return_(t-3)_(t-1)_AAPL  Return_(t-1)_t_SP  \\\n",
       "Date                                                                          \n",
       "2006-06-30             0.022314                 0.026815          -0.002098   \n",
       "2006-07-03            -0.017297                 0.022314           0.007865   \n",
       "2006-07-05            -0.004714                -0.017297          -0.007249   \n",
       "2006-07-06            -0.037618                -0.004714           0.002494   \n",
       "2006-07-07            -0.028070                -0.037618          -0.006750   \n",
       "2006-07-10            -0.013807                -0.028070           0.001470   \n",
       "2006-07-11             0.004513                -0.013807           0.004016   \n",
       "2006-07-12            -0.037091                 0.004513          -0.010869   \n",
       "2006-07-13            -0.061096                -0.037091          -0.012967   \n",
       "2006-07-14            -0.043240                -0.061096          -0.004894   \n",
       "\n",
       "            Open_Close_Diff_AAPL  High_Low_Diff_AAPL  Open_Close_Diff_VIX  \\\n",
       "Date                                                                        \n",
       "2006-06-30             -0.045714            0.178572             0.180000   \n",
       "2006-07-03              0.061428            0.120001            -0.240000   \n",
       "2006-07-05             -0.021428            0.148572             0.230000   \n",
       "2006-07-06             -0.188571            0.255714            -0.390000   \n",
       "2006-07-07             -0.011428            0.268571             0.070000   \n",
       "2006-07-10             -0.100000            0.284286            -0.150000   \n",
       "2006-07-11              0.077143            0.208571            -1.170000   \n",
       "2006-07-12             -0.315715            0.331428             1.100000   \n",
       "2006-07-13              0.031429            0.387144             2.620001   \n",
       "2006-07-14             -0.261428            0.390000             0.479999   \n",
       "\n",
       "            High_Low_Diff_VIX  Chg_in_volume  \n",
       "Date                                          \n",
       "2006-06-30               0.73      -0.153083  \n",
       "2006-07-03               0.74      -0.736688  \n",
       "2006-07-05               0.91       1.660773  \n",
       "2006-07-06               0.79       0.221843  \n",
       "2006-07-07               1.02       0.262397  \n",
       "2006-07-10               0.83      -0.337789  \n",
       "2006-07-11               1.58       0.558571  \n",
       "2006-07-12               1.59       0.124004  \n",
       "2006-07-13               2.66       0.347856  \n",
       "2006-07-14               1.51      -0.205511  \n",
       "\n",
       "[10 rows x 62 columns]"
      ]
     },
     "execution_count": 23,
     "metadata": {},
     "output_type": "execute_result"
    }
   ],
   "source": [
    "df_concat.head(10)"
   ]
  },
  {
   "cell_type": "code",
   "execution_count": 24,
   "metadata": {
    "colab": {},
    "colab_type": "code",
    "id": "Al8dy17o6BXh"
   },
   "outputs": [
    {
     "name": "stdout",
     "output_type": "stream",
     "text": [
      "<class 'pandas.core.frame.DataFrame'>\n",
      "DatetimeIndex: 3021 entries, 2006-06-30 to 2018-06-29\n",
      "Data columns (total 62 columns):\n",
      "Open_AAPL                        3021 non-null float64\n",
      "High_AAPL                        3021 non-null float64\n",
      "Low_AAPL                         3021 non-null float64\n",
      "Close_AAPL                       3021 non-null float64\n",
      "Adj Close_AAPL                   3021 non-null float64\n",
      "Volume_AAPL                      3021 non-null float64\n",
      "Open_SP500                       3021 non-null float64\n",
      "High_SP500                       3021 non-null float64\n",
      "Low_SP500                        3021 non-null float64\n",
      "Close_SP500                      3021 non-null float64\n",
      "Adj Close_SP500                  3021 non-null float64\n",
      "Volume_SP500                     3021 non-null float64\n",
      "Open_VIX                         3021 non-null float64\n",
      "High_VIX                         3021 non-null float64\n",
      "Low_VIX                          3021 non-null float64\n",
      "Close_VIX                        3021 non-null float64\n",
      "Adj Close_VIX                    3021 non-null float64\n",
      "Volume_VIX                       3021 non-null float64\n",
      "USDEUR                           3021 non-null float32\n",
      "USDYuan                          3021 non-null float32\n",
      "totpats                          3021 non-null float64\n",
      "GDPC1                            3021 non-null float64\n",
      "CPIAUCSL                         3021 non-null float64\n",
      "Revenue_growth                   3021 non-null float64\n",
      "Gross_Margin                     3021 non-null float64\n",
      "EBITDA_Margin                    3021 non-null float64\n",
      "ROA                              3021 non-null float64\n",
      "Asset_Turnover                   3021 non-null float64\n",
      "Current_Ratio                    3021 non-null float64\n",
      "1yr_share_issue                  3021 non-null float64\n",
      "accrual                          3021 non-null float64\n",
      "asset_growth                     3021 non-null float64\n",
      "div_yield                        3021 non-null float64\n",
      "DGS10                            3021 non-null float32\n",
      "BAB                              3021 non-null float64\n",
      "MKT                              3021 non-null float64\n",
      "SMB                              3021 non-null float64\n",
      "UMD                              3021 non-null float64\n",
      "RF                               3021 non-null float64\n",
      "HML                              3021 non-null float64\n",
      "compound                         3021 non-null float64\n",
      "neg                              3021 non-null float64\n",
      "neu                              3021 non-null float64\n",
      "pos                              3021 non-null float64\n",
      "aapl: (Worldwide)                3021 non-null float64\n",
      "AAPL US Equity Hist Vol (10)     3021 non-null float64\n",
      "AAPL US Equity Hist Vol (30)     3021 non-null float64\n",
      "AAPL US Equity Hist Vol (50)     3021 non-null float64\n",
      "AAPL US Equity Hist Vol (100)    3021 non-null float64\n",
      "PX_LAST                          1903 non-null float64\n",
      "FutDiff                          1903 non-null float64\n",
      "AAPL Adj Close Diff              3021 non-null float64\n",
      "Direction                        3021 non-null int64\n",
      "Return_(t-1)_t_AAPL              3021 non-null float64\n",
      "Return_(t-2)_t_AAPL              3021 non-null float64\n",
      "Return_(t-3)_(t-1)_AAPL          3021 non-null float64\n",
      "Return_(t-1)_t_SP                3021 non-null float64\n",
      "Open_Close_Diff_AAPL             3021 non-null float64\n",
      "High_Low_Diff_AAPL               3021 non-null float64\n",
      "Open_Close_Diff_VIX              3021 non-null float64\n",
      "High_Low_Diff_VIX                3021 non-null float64\n",
      "Chg_in_volume                    3021 non-null float64\n",
      "dtypes: float32(3), float64(58), int64(1)\n",
      "memory usage: 1.5 MB\n"
     ]
    }
   ],
   "source": [
    "# making sure each column is in numerical datatype\n",
    "df_concat.info()"
   ]
  },
  {
   "cell_type": "code",
   "execution_count": 102,
   "metadata": {
    "colab": {},
    "colab_type": "code",
    "id": "NrOUHyGT6BXl"
   },
   "outputs": [
    {
     "name": "stdout",
     "output_type": "stream",
     "text": [
      "% of 0 :  0.4813452443510247\n"
     ]
    },
    {
     "data": {
      "text/plain": [
       "<matplotlib.axes._subplots.AxesSubplot at 0x8326b6ab00>"
      ]
     },
     "execution_count": 102,
     "metadata": {},
     "output_type": "execute_result"
    },
    {
     "data": {
      "image/png": "[encoded data removed]",
      "text/plain": [
       "<Figure size 432x288 with 1 Axes>"
      ]
     },
     "metadata": {},
     "output_type": "display_data"
    }
   ],
   "source": [
    "# getting a sense of how many dates AAPL are going up\n",
    "a = df_concat.Direction.value_counts()\n",
    "print(\"% of 0 : \",a[0]/sum(a))\n",
    "a.plot(kind = 'bar')"
   ]
  },
  {
   "cell_type": "code",
   "execution_count": 101,
   "metadata": {
    "colab": {},
    "colab_type": "code",
    "id": "Sk8veEcN6BXp"
   },
   "outputs": [
    {
     "data": {
      "text/plain": [
       "<matplotlib.axes._subplots.AxesSubplot at 0x83266e6518>"
      ]
     },
     "execution_count": 101,
     "metadata": {},
     "output_type": "execute_result"
    },
    {
     "data": {
      "image/png": "[encoded data removed]",
      "text/plain": [
       "<Figure size 432x288 with 1 Axes>"
      ]
     },
     "metadata": {},
     "output_type": "display_data"
    }
   ],
   "source": [
    "a = df_concat.groupby([df_concat.index.year,'Direction'])['Direction'].count()\\\n",
    "/df_concat.groupby([df_concat.index.year])['Direction'].count()\n",
    "a.plot(kind = 'bar')"
   ]
  },
  {
   "cell_type": "markdown",
   "metadata": {
    "colab_type": "text",
    "id": "F83cIdChXt0g"
   },
   "source": [
    "#### Selecting Features, Training, and Testing models."
   ]
  },
  {
   "cell_type": "code",
   "execution_count": 27,
   "metadata": {
    "colab": {},
    "colab_type": "code",
    "id": "VXwo2dIeXt0h"
   },
   "outputs": [],
   "source": [
    "# Not all features are selected.\n",
    "# mostly comment out quarterly data, as they introduce more noise than info\n",
    "\n",
    "Features = [\n",
    "            'USDEUR',                      \n",
    "            'USDYuan',                          \n",
    "            'totpats',                          \n",
    "            # 'GDPC1',                            \n",
    "            # 'CPIAUCSL',                         \n",
    "            # 'Revenue_growth',                   \n",
    "            # 'Gross_Margin',                     \n",
    "            # 'EBITDA_Margin',                    \n",
    "            # 'ROA',                              \n",
    "            # 'Asset_Turnover',                   \n",
    "            # 'Current_Ratio',                    \n",
    "            # '1yr_share_issue',                  \n",
    "            'accrual',      # Really important feature, improved accuracy from 54.1% to 55.3%\n",
    "            # 'asset_growth',                     \n",
    "            # 'div_yield',                        \n",
    "            'DGS10',                            \n",
    "            'BAB',                              \n",
    "            'MKT',                              \n",
    "            'SMB',                              \n",
    "            'UMD',                              \n",
    "            'RF',                               \n",
    "            'HML',                              \n",
    "            'compound',                         \n",
    "            'neg',                              \n",
    "            'neu',                              \n",
    "            'pos',                              \n",
    "            'aapl: (Worldwide)',                \n",
    "            'AAPL US Equity Hist Vol (10)',     \n",
    "            'AAPL US Equity Hist Vol (30)',     \n",
    "            'AAPL US Equity Hist Vol (50)',     \n",
    "            'AAPL US Equity Hist Vol (100)',    \n",
    "            'AAPL Adj Close Diff',              \n",
    "#             'Direction',                        \n",
    "            'Return_(t-1)_t_AAPL',              \n",
    "            'Return_(t-2)_t_AAPL',              \n",
    "            'Return_(t-3)_(t-1)_AAPL',          \n",
    "            'Return_(t-1)_t_SP',                \n",
    "            'Open_Close_Diff_AAPL',             \n",
    "            'High_Low_Diff_AAPL',               \n",
    "            'Open_Close_Diff_VIX',              \n",
    "            'High_Low_Diff_VIX',                \n",
    "            'Chg_in_volume',\n",
    "            'FutDiff'\n",
    "            \n",
    "            ]"
   ]
  },
  {
   "cell_type": "code",
   "execution_count": 28,
   "metadata": {
    "colab": {},
    "colab_type": "code",
    "id": "XiGz1hkW6BXv"
   },
   "outputs": [
    {
     "data": {
      "image/png": "[encoded data removed]",
      "text/plain": [
       "<Figure size 432x288 with 2 Axes>"
      ]
     },
     "metadata": {},
     "output_type": "display_data"
    }
   ],
   "source": [
    "\n",
    "corr = df_concat.loc[:,Features].corr()\n",
    "\n",
    "#plot the heatmap\n",
    "sns.heatmap(corr);"
   ]
  },
  {
   "cell_type": "code",
   "execution_count": 29,
   "metadata": {
    "colab": {},
    "colab_type": "code",
    "id": "TGTYPT_h6BXx"
   },
   "outputs": [
    {
     "name": "stdout",
     "output_type": "stream",
     "text": [
      "how many NaN's in df:  0\n"
     ]
    }
   ],
   "source": [
    "# check: how many NA is there\n",
    "df_concat.dropna(inplace = True)\n",
    "print(\"how many NaN's in df: \",df_concat.isnull().sum().sum()) \n"
   ]
  },
  {
   "cell_type": "markdown",
   "metadata": {
    "colab_type": "text",
    "id": "QTTy52JD6BX1"
   },
   "source": [
    "# Step 5: Create a dataset for supervised modeling"
   ]
  },
  {
   "cell_type": "code",
   "execution_count": 30,
   "metadata": {
    "colab": {},
    "colab_type": "code",
    "id": "5L0xn49x6BX4"
   },
   "outputs": [],
   "source": [
    "## Variable reduction using Tree-based method\n",
    "## by projecting it to the most discriminative directions.\n",
    "# LDA is not like PCA for feature reduction in the sense that it need y label,\n",
    "# so LDA actually belongs to linear classification family (close to logistic regression)\n",
    "\n",
    "from sklearn.ensemble import ExtraTreesClassifier\n",
    "from sklearn import preprocessing\n",
    "\n",
    "#from sklearn.feature_selection import SelectFromModel\n",
    "from sklearn.discriminant_analysis import LinearDiscriminantAnalysis\n",
    "\n",
    "# X and y for supervised learning\n",
    "# shift 1 day to give it predicting power\n",
    "y = df_concat[['Direction']].iloc[1:,:].values.T[0]\n",
    "X = df_concat[Features].iloc[:-1,:].values"
   ]
  },
  {
   "cell_type": "markdown",
   "metadata": {
    "colab_type": "text",
    "id": "yf_hHowi6BX5"
   },
   "source": [
    "### Classification"
   ]
  },
  {
   "cell_type": "code",
   "execution_count": 31,
   "metadata": {
    "colab": {},
    "colab_type": "code",
    "id": "Xx1XwhEJXtzy"
   },
   "outputs": [],
   "source": [
    "def clf_result(clf,X_train, X_test, y_train, y_test,n_splits):\n",
    "    scoring = {'accuracy': make_scorer(accuracy_score),'prec': 'precision'}\n",
    "    \n",
    "    # customize cross validation to time series\n",
    "    tscv = TimeSeriesSplit(n_splits= n_splits)\n",
    "    # cross validation result:\n",
    "    cv_results = cross_validate(clf, X_train, y_train, scoring=scoring, cv=tscv)\n",
    "    \n",
    "    print (\"training & CV result:\")\n",
    "    for s, r in cv_results.items():\n",
    "        print (s, r)\n",
    "        \n",
    "    # prediction result:\n",
    "    clf.fit(X_train, y_train)\n",
    "    print(\" \")\n",
    "    print(\"accuracy score on test set: \",accuracy_score(y_test, clf.predict(X_test)))\n",
    "    \n",
    "    t0 = time.time()\n",
    "    t1 = time.time()\n",
    "    print('Performance on training data: \\n')\n",
    "    perf_metrics(X_train, y_train, clf, t1, t0)\n",
    "    print('Performance on testing data: \\n')\n",
    "    perf_metrics(X_test, y_test, clf, t1, t0)\n",
    "    return clf\n",
    "\n",
    "def print_percentage(y,set_name):\n",
    "    neg = y[y == -1].count()\n",
    "    pos = y[y == 1].count()\n",
    "    print (\"Percentage of negative sentiment in %s: \" % (set_name), (neg*100/(neg+pos)))\n"
   ]
  },
  {
   "cell_type": "code",
   "execution_count": 32,
   "metadata": {
    "colab": {},
    "colab_type": "code",
    "id": "hfPd57jfXtz1"
   },
   "outputs": [],
   "source": [
    "def ts_train_test_split(np_x,np_y, n_splits=3):\n",
    "    tscv = TimeSeriesSplit(n_splits = n_splits)\n",
    "    for train_index, test_index in tscv.split(np_x):\n",
    "        X_train, X_test = np_x[train_index], np_x[test_index]\n",
    "        y_train, y_test = np_y[train_index], np_y[test_index]\n",
    "#         print(\"Start of one split\")\n",
    "#         print(X_train)\n",
    "#         print(X_test)\n",
    "#         print(y_train)\n",
    "#         print(y_test)\n",
    "#         print(\"End of one split\")\n",
    "    return X_train, X_test, y_train, y_test\n",
    "# return the last split of data, which is what we want, the test set is 1/k of the whole data"
   ]
  },
  {
   "cell_type": "code",
   "execution_count": 33,
   "metadata": {
    "colab": {},
    "colab_type": "code",
    "id": "VGSgV-9m6BX_"
   },
   "outputs": [],
   "source": [
    "def ts_train_test_standardize(X_train, X_test):\n",
    "    X_train_mean = X_train.mean()\n",
    "    X_train_std = X_train.std()\n",
    "    \n",
    "    X_train = (X_train - X_train_mean)/X_train_std\n",
    "    X_test = (X_test - X_train_mean)/X_train_std # to avoid future-bias\n",
    "    \n",
    "    return X_train, X_test"
   ]
  },
  {
   "cell_type": "markdown",
   "metadata": {
    "colab_type": "text",
    "id": "4WmibKbI6BYC"
   },
   "source": [
    "### To see how the TS train test works (i.e tscv function)"
   ]
  },
  {
   "cell_type": "code",
   "execution_count": 34,
   "metadata": {
    "colab": {},
    "colab_type": "code",
    "id": "I4yGuGMT6BYC"
   },
   "outputs": [],
   "source": [
    "temp1 = np.array(list(range(0,100,1)))\n",
    "temp2 = np.array(list(range(1,101,1)))\n",
    "temp_train, temp_test, temp_y_train, temp_y_test = ts_train_test_split(temp1, temp2, 5)"
   ]
  },
  {
   "cell_type": "code",
   "execution_count": 35,
   "metadata": {
    "colab": {},
    "colab_type": "code",
    "id": "T9X2_X1I6BYD"
   },
   "outputs": [
    {
     "name": "stdout",
     "output_type": "stream",
     "text": [
      "[ 0  1  2  3  4  5  6  7  8  9 10 11 12 13 14 15 16 17 18 19 20 21 22 23\n",
      " 24 25 26 27 28 29 30 31 32 33 34 35 36 37 38 39 40 41 42 43 44 45 46 47\n",
      " 48 49 50 51 52 53 54 55 56 57 58 59 60 61 62 63 64 65 66 67 68 69 70 71\n",
      " 72 73 74 75 76 77 78 79 80 81 82 83]\n",
      "[84 85 86 87 88 89 90 91 92 93 94 95 96 97 98 99]\n",
      "[ 1  2  3  4  5  6  7  8  9 10 11 12 13 14 15 16 17 18 19 20 21 22 23 24\n",
      " 25 26 27 28 29 30 31 32 33 34 35 36 37 38 39 40 41 42 43 44 45 46 47 48\n",
      " 49 50 51 52 53 54 55 56 57 58 59 60 61 62 63 64 65 66 67 68 69 70 71 72\n",
      " 73 74 75 76 77 78 79 80 81 82 83 84]\n",
      "[ 85  86  87  88  89  90  91  92  93  94  95  96  97  98  99 100]\n"
     ]
    }
   ],
   "source": [
    "print(temp_train)\n",
    "print(temp_test)\n",
    "print(temp_y_train)\n",
    "print(temp_y_test)"
   ]
  },
  {
   "cell_type": "code",
   "execution_count": 36,
   "metadata": {
    "colab": {},
    "colab_type": "code",
    "id": "69YArHYc6BYI"
   },
   "outputs": [],
   "source": [
    "# seperate training data from testing data\n",
    "X_train, X_test, y_train, y_test = ts_train_test_split(X,y,3)\n",
    "\n",
    "# standardize features\n",
    "X_train, X_test = ts_train_test_standardize(X_train, X_test)"
   ]
  },
  {
   "cell_type": "code",
   "execution_count": 37,
   "metadata": {
    "colab": {},
    "colab_type": "code",
    "id": "Z0zf9rht6BYK"
   },
   "outputs": [
    {
     "name": "stdout",
     "output_type": "stream",
     "text": [
      "(1427, 31)\n",
      "(475, 31)\n",
      "(1427,)\n",
      "(475,)\n"
     ]
    }
   ],
   "source": [
    "print(X_train.shape)\n",
    "print(X_test.shape)\n",
    "print(y_train.shape)\n",
    "print(y_test.shape)"
   ]
  },
  {
   "cell_type": "markdown",
   "metadata": {
    "colab_type": "text",
    "id": "YQUUqLWm6BYO"
   },
   "source": [
    "## Feature Transformation Using PCA/LDA"
   ]
  },
  {
   "cell_type": "code",
   "execution_count": 38,
   "metadata": {
    "colab": {},
    "colab_type": "code",
    "id": "YW1EQBvY6BYP"
   },
   "outputs": [],
   "source": [
    "from sklearn.decomposition import PCA\n",
    "\n",
    "lda = LinearDiscriminantAnalysis(n_components=20)\n",
    "#lda = lda.fit(X_train,y_train) \n",
    "#X_train = lda.transform(X_train)\n",
    "#X_test = lda.transform(X_test)\n",
    "\n",
    "#pca = PCA(.80).fit(X_train) \n",
    "#X_train = pca.transform(X_train)\n",
    "#X_test = pca.transform(X_test)"
   ]
  },
  {
   "cell_type": "code",
   "execution_count": 39,
   "metadata": {
    "colab": {},
    "colab_type": "code",
    "id": "d-VBE9dp6BYU"
   },
   "outputs": [
    {
     "data": {
      "text/plain": [
       "(1427, 31)"
      ]
     },
     "execution_count": 39,
     "metadata": {},
     "output_type": "execute_result"
    }
   ],
   "source": [
    "X_train.shape"
   ]
  },
  {
   "cell_type": "code",
   "execution_count": 40,
   "metadata": {
    "colab": {},
    "colab_type": "code",
    "id": "5GpjYocM6BYX"
   },
   "outputs": [
    {
     "data": {
      "text/plain": [
       "0.5164681149264191"
      ]
     },
     "execution_count": 40,
     "metadata": {},
     "output_type": "execute_result"
    }
   ],
   "source": [
    "# Naive model:\n",
    "sum(y_train)/y_train.shape[0]"
   ]
  },
  {
   "cell_type": "code",
   "execution_count": 41,
   "metadata": {
    "colab": {},
    "colab_type": "code",
    "id": "KI4LjlYn6BYZ"
   },
   "outputs": [
    {
     "data": {
      "text/plain": [
       "0.5184016824395373"
      ]
     },
     "execution_count": 41,
     "metadata": {},
     "output_type": "execute_result"
    }
   ],
   "source": [
    "# Naive model (with future-bias)\n",
    "sum(y)/y.shape[0]"
   ]
  },
  {
   "cell_type": "code",
   "execution_count": 42,
   "metadata": {
    "colab": {},
    "colab_type": "code",
    "id": "OgMJk8nC6BYe"
   },
   "outputs": [
    {
     "data": {
      "text/plain": [
       "0.5242105263157895"
      ]
     },
     "execution_count": 42,
     "metadata": {},
     "output_type": "execute_result"
    }
   ],
   "source": [
    "# truth:\n",
    "sum(y_test)/y_test.shape[0]"
   ]
  },
  {
   "cell_type": "markdown",
   "metadata": {
    "colab_type": "text",
    "id": "gtt6l4E06BYg"
   },
   "source": [
    "# Step 6: Model selection for supervised learning"
   ]
  },
  {
   "cell_type": "markdown",
   "metadata": {
    "colab_type": "text",
    "id": "iZTnBZF16BYh"
   },
   "source": [
    "### LinearDiscriminantAnalysis (LDA)"
   ]
  },
  {
   "cell_type": "code",
   "execution_count": 43,
   "metadata": {
    "colab": {},
    "colab_type": "code",
    "id": "w2P3FGJE6BYi"
   },
   "outputs": [
    {
     "name": "stdout",
     "output_type": "stream",
     "text": [
      "training & CV result:\n",
      "fit_time [0.04614568 0.00200009 0.00360894]\n",
      "score_time [0.00300026 0.00099969 0.0010004 ]\n",
      "test_accuracy [0.4747191  0.51685393 0.47752809]\n",
      "train_accuracy [0.61002786 0.57902098 0.56862745]\n",
      "test_prec [0.47089947 0.59504132 0.47058824]\n",
      "train_prec [0.61674009 0.57692308 0.57223796]\n",
      " \n",
      "accuracy score on test set:  0.5263157894736842\n",
      "Performance on training data: \n",
      "\n"
     ]
    },
    {
     "data": {
      "image/png": "[encoded data removed]",
      "text/plain": [
       "<Figure size 432x288 with 1 Axes>"
      ]
     },
     "metadata": {},
     "output_type": "display_data"
    },
    {
     "name": "stdout",
     "output_type": "stream",
     "text": [
      "----------------------------------------------------------------------\n",
      "F beta score is: 0.5758918162741897\n",
      "----------------------------------------------------------------------\n",
      "F1 score is: 0.6080000000000001\n",
      "----------------------------------------------------------------------\n",
      "Classification Report: \n",
      "\n",
      "             precision    recall  f1-score   support\n",
      "\n",
      "          0       0.55      0.43      0.48       690\n",
      "          1       0.56      0.67      0.61       737\n",
      "\n",
      "avg / total       0.55      0.55      0.55      1427\n",
      "\n",
      "----------------------------------------------------------------------\n",
      "It took 0.0 sec to fit the model.\n",
      "----------------------------------------------------------------------\n",
      "Accuracy score: 0.553609\n",
      "AUC is: 0.552736\n",
      "----------------------------------------------------------------------\n",
      "Performance on testing data: \n",
      "\n"
     ]
    },
    {
     "data": {
      "image/png": "[encoded data removed]",
      "text/plain": [
       "<Figure size 432x288 with 1 Axes>"
      ]
     },
     "metadata": {},
     "output_type": "display_data"
    },
    {
     "name": "stdout",
     "output_type": "stream",
     "text": [
      "----------------------------------------------------------------------\n",
      "F beta score is: 0.5779636005902608\n",
      "----------------------------------------------------------------------\n",
      "F1 score is: 0.6762589928057554\n",
      "----------------------------------------------------------------------\n",
      "Classification Report: \n",
      "\n",
      "             precision    recall  f1-score   support\n",
      "\n",
      "          0       0.52      0.07      0.12       226\n",
      "          1       0.53      0.94      0.68       249\n",
      "\n",
      "avg / total       0.52      0.53      0.41       475\n",
      "\n",
      "----------------------------------------------------------------------\n",
      "It took 0.0 sec to fit the model.\n",
      "----------------------------------------------------------------------\n",
      "Accuracy score: 0.526316\n",
      "AUC is: 0.522074\n",
      "----------------------------------------------------------------------\n"
     ]
    }
   ],
   "source": [
    "clf = LinearDiscriminantAnalysis()\n",
    "clf = clf_result(clf,X_train, X_test, y_train, y_test,3)"
   ]
  },
  {
   "cell_type": "markdown",
   "metadata": {
    "colab_type": "text",
    "id": "eR-r9tf46BYn"
   },
   "source": [
    "### Logistic Regression"
   ]
  },
  {
   "cell_type": "code",
   "execution_count": 44,
   "metadata": {
    "colab": {},
    "colab_type": "code",
    "id": "XHLtnBlnXt0m"
   },
   "outputs": [
    {
     "name": "stdout",
     "output_type": "stream",
     "text": [
      "The best rf is: \n"
     ]
    },
    {
     "data": {
      "text/plain": [
       "LogisticRegression(C=5, class_weight=None, dual=False, fit_intercept=True,\n",
       "          intercept_scaling=1, max_iter=100, multi_class='ovr', n_jobs=1,\n",
       "          penalty='l2', random_state=None, solver='liblinear', tol=0.0001,\n",
       "          verbose=0, warm_start=False)"
      ]
     },
     "execution_count": 44,
     "metadata": {},
     "output_type": "execute_result"
    }
   ],
   "source": [
    "# Do a GridSearchCV\n",
    "from sklearn.model_selection import GridSearchCV\n",
    "tscv = TimeSeriesSplit(n_splits= 3)\n",
    "\n",
    "params = {'penalty': ['l1', 'l2'], 'C': [0.5, 1, 1.1, 1.5, 2, 5]}\n",
    "grid_clf = GridSearchCV(LogisticRegression(), params, cv=tscv)\n",
    "grid_clf.fit(X_train, y_train)\n",
    "# best estimator\n",
    "best = grid_clf.best_estimator_\n",
    "print('The best rf is: ')\n",
    "best"
   ]
  },
  {
   "cell_type": "code",
   "execution_count": 45,
   "metadata": {
    "colab": {},
    "colab_type": "code",
    "id": "FX3IAQU96BYp"
   },
   "outputs": [
    {
     "name": "stdout",
     "output_type": "stream",
     "text": [
      "training & CV result:\n",
      "fit_time [0.0100081  0.01400971 0.01200819]\n",
      "score_time [0.00200057 0.00100064 0.00200367]\n",
      "test_accuracy [0.51404494 0.48876404 0.49719101]\n",
      "train_accuracy [0.54874652 0.56083916 0.55462185]\n",
      "test_prec [0.50867052 0.5320197  0.48484848]\n",
      "train_prec [0.55516014 0.55939525 0.55627426]\n",
      " \n",
      "accuracy score on test set:  0.511578947368421\n",
      "Performance on training data: \n",
      "\n"
     ]
    },
    {
     "data": {
      "image/png": "[encoded data removed]",
      "text/plain": [
       "<Figure size 432x288 with 1 Axes>"
      ]
     },
     "metadata": {},
     "output_type": "display_data"
    },
    {
     "name": "stdout",
     "output_type": "stream",
     "text": [
      "----------------------------------------------------------------------\n",
      "F beta score is: 0.5806173105978848\n",
      "----------------------------------------------------------------------\n",
      "F1 score is: 0.6288720046756282\n",
      "----------------------------------------------------------------------\n",
      "Classification Report: \n",
      "\n",
      "             precision    recall  f1-score   support\n",
      "\n",
      "          0       0.56      0.37      0.44       690\n",
      "          1       0.55      0.73      0.63       737\n",
      "\n",
      "avg / total       0.56      0.56      0.54      1427\n",
      "\n",
      "----------------------------------------------------------------------\n",
      "It took 0.0 sec to fit the model.\n",
      "----------------------------------------------------------------------\n",
      "Accuracy score: 0.555011\n",
      "AUC is: 0.556534\n",
      "----------------------------------------------------------------------\n",
      "Performance on testing data: \n",
      "\n"
     ]
    },
    {
     "data": {
      "image/png": "[encoded data removed]",
      "text/plain": [
       "<Figure size 432x288 with 1 Axes>"
      ]
     },
     "metadata": {},
     "output_type": "display_data"
    },
    {
     "name": "stdout",
     "output_type": "stream",
     "text": [
      "----------------------------------------------------------------------\n",
      "F beta score is: 0.5594202898550725\n",
      "----------------------------------------------------------------------\n",
      "F1 score is: 0.6245954692556633\n",
      "----------------------------------------------------------------------\n",
      "Classification Report: \n",
      "\n",
      "             precision    recall  f1-score   support\n",
      "\n",
      "          0       0.47      0.22      0.30       226\n",
      "          1       0.52      0.78      0.62       249\n",
      "\n",
      "avg / total       0.50      0.51      0.47       475\n",
      "\n",
      "----------------------------------------------------------------------\n",
      "It took 0.0 sec to fit the model.\n",
      "----------------------------------------------------------------------\n",
      "Accuracy score: 0.511579\n",
      "AUC is: 0.497367\n",
      "----------------------------------------------------------------------\n"
     ]
    }
   ],
   "source": [
    "clf = best\n",
    "clf = clf_result(clf,X_train, X_test, y_train, y_test,3)"
   ]
  },
  {
   "cell_type": "code",
   "execution_count": 46,
   "metadata": {
    "colab": {},
    "colab_type": "code",
    "id": "nTYuH4WW6BYr"
   },
   "outputs": [
    {
     "name": "stdout",
     "output_type": "stream",
     "text": [
      "training & CV result:\n",
      "fit_time [0.00300217 0.00701046 0.01000619]\n",
      "score_time [0.00400233 0.00299597 0.00200152]\n",
      "test_accuracy [0.51685393 0.49719101 0.47191011]\n",
      "train_accuracy [0.55988858 0.55244755 0.54621849]\n",
      "test_prec [0.50847458 0.53508772 0.46781116]\n",
      "train_prec [0.55892256 0.55093555 0.54744526]\n",
      " \n",
      "accuracy score on test set:  0.5052631578947369\n",
      "Performance on training data: \n",
      "\n"
     ]
    },
    {
     "data": {
      "image/png": "[encoded data removed]",
      "text/plain": [
       "<Figure size 432x288 with 1 Axes>"
      ]
     },
     "metadata": {},
     "output_type": "display_data"
    },
    {
     "name": "stdout",
     "output_type": "stream",
     "text": [
      "----------------------------------------------------------------------\n",
      "F beta score is: 0.5718987862579715\n",
      "----------------------------------------------------------------------\n",
      "F1 score is: 0.6289592760180995\n",
      "----------------------------------------------------------------------\n",
      "Classification Report: \n",
      "\n",
      "             precision    recall  f1-score   support\n",
      "\n",
      "          0       0.54      0.31      0.40       690\n",
      "          1       0.54      0.75      0.63       737\n",
      "\n",
      "avg / total       0.54      0.54      0.52      1427\n",
      "\n",
      "----------------------------------------------------------------------\n",
      "It took 0.0 sec to fit the model.\n",
      "----------------------------------------------------------------------\n",
      "Accuracy score: 0.540294\n",
      "AUC is: 0.541106\n",
      "----------------------------------------------------------------------\n",
      "Performance on testing data: \n",
      "\n"
     ]
    },
    {
     "data": {
      "image/png": "[encoded data removed]",
      "text/plain": [
       "<Figure size 432x288 with 1 Axes>"
      ]
     },
     "metadata": {},
     "output_type": "display_data"
    },
    {
     "name": "stdout",
     "output_type": "stream",
     "text": [
      "----------------------------------------------------------------------\n",
      "F beta score is: 0.5608718766613504\n",
      "----------------------------------------------------------------------\n",
      "F1 score is: 0.6423135464231355\n",
      "----------------------------------------------------------------------\n",
      "Classification Report: \n",
      "\n",
      "             precision    recall  f1-score   support\n",
      "\n",
      "          0       0.43      0.13      0.20       226\n",
      "          1       0.52      0.85      0.64       249\n",
      "\n",
      "avg / total       0.48      0.51      0.43       475\n",
      "\n",
      "----------------------------------------------------------------------\n",
      "It took 0.0 sec to fit the model.\n",
      "----------------------------------------------------------------------\n",
      "Accuracy score: 0.505263\n",
      "AUC is: 0.474996\n",
      "----------------------------------------------------------------------\n"
     ]
    }
   ],
   "source": [
    "clf = LogisticRegression(penalty='l2', C = 1.1)\n",
    "clf = clf_result(clf,X_train, X_test, y_train, y_test,3)"
   ]
  },
  {
   "cell_type": "code",
   "execution_count": 47,
   "metadata": {
    "colab": {},
    "colab_type": "code",
    "id": "iCeE1NJ86BYt"
   },
   "outputs": [
    {
     "name": "stdout",
     "output_type": "stream",
     "text": [
      "training & CV result:\n",
      "fit_time [0.00400233 0.00900626 0.01000547]\n",
      "score_time [0.00200176 0.00100088 0.00200391]\n",
      "test_accuracy [0.51404494 0.48876404 0.49719101]\n",
      "train_accuracy [0.54874652 0.56083916 0.55462185]\n",
      "test_prec [0.50867052 0.5320197  0.48484848]\n",
      "train_prec [0.55516014 0.55939525 0.55627426]\n",
      " \n",
      "accuracy score on test set:  0.511578947368421\n",
      "Performance on training data: \n",
      "\n"
     ]
    },
    {
     "data": {
      "image/png": "[encoded data removed]",
      "text/plain": [
       "<Figure size 432x288 with 1 Axes>"
      ]
     },
     "metadata": {},
     "output_type": "display_data"
    },
    {
     "name": "stdout",
     "output_type": "stream",
     "text": [
      "----------------------------------------------------------------------\n",
      "F beta score is: 0.5806173105978848\n",
      "----------------------------------------------------------------------\n",
      "F1 score is: 0.6288720046756282\n",
      "----------------------------------------------------------------------\n",
      "Classification Report: \n",
      "\n",
      "             precision    recall  f1-score   support\n",
      "\n",
      "          0       0.56      0.37      0.44       690\n",
      "          1       0.55      0.73      0.63       737\n",
      "\n",
      "avg / total       0.56      0.56      0.54      1427\n",
      "\n",
      "----------------------------------------------------------------------\n",
      "It took 0.0 sec to fit the model.\n",
      "----------------------------------------------------------------------\n",
      "Accuracy score: 0.555011\n",
      "AUC is: 0.556534\n",
      "----------------------------------------------------------------------\n",
      "Performance on testing data: \n",
      "\n"
     ]
    },
    {
     "data": {
      "image/png": "[encoded data removed]",
      "text/plain": [
       "<Figure size 432x288 with 1 Axes>"
      ]
     },
     "metadata": {},
     "output_type": "display_data"
    },
    {
     "name": "stdout",
     "output_type": "stream",
     "text": [
      "----------------------------------------------------------------------\n",
      "F beta score is: 0.5594202898550725\n",
      "----------------------------------------------------------------------\n",
      "F1 score is: 0.6245954692556633\n",
      "----------------------------------------------------------------------\n",
      "Classification Report: \n",
      "\n",
      "             precision    recall  f1-score   support\n",
      "\n",
      "          0       0.47      0.22      0.30       226\n",
      "          1       0.52      0.78      0.62       249\n",
      "\n",
      "avg / total       0.50      0.51      0.47       475\n",
      "\n",
      "----------------------------------------------------------------------\n",
      "It took 0.0 sec to fit the model.\n",
      "----------------------------------------------------------------------\n",
      "Accuracy score: 0.511579\n",
      "AUC is: 0.497367\n",
      "----------------------------------------------------------------------\n"
     ]
    }
   ],
   "source": [
    "clf = best\n",
    "clf = clf_result(clf,X_train, X_test, y_train, y_test,3)"
   ]
  },
  {
   "cell_type": "code",
   "execution_count": 48,
   "metadata": {
    "colab": {},
    "colab_type": "code",
    "id": "0kfjdOgm6BYw"
   },
   "outputs": [
    {
     "data": {
      "text/plain": [
       "0.7768421052631579"
      ]
     },
     "execution_count": 48,
     "metadata": {},
     "output_type": "execute_result"
    }
   ],
   "source": [
    "sum(clf.predict(X_test))/len(clf.predict(X_test))\n",
    "# perc of time algo predicts positive."
   ]
  },
  {
   "cell_type": "markdown",
   "metadata": {
    "colab_type": "text",
    "id": "Xycxi_Tb6BYy"
   },
   "source": [
    "## Random Forest"
   ]
  },
  {
   "cell_type": "code",
   "execution_count": 49,
   "metadata": {
    "colab": {},
    "colab_type": "code",
    "id": "JYBO9TCW6BY0"
   },
   "outputs": [
    {
     "name": "stdout",
     "output_type": "stream",
     "text": [
      "training & CV result:\n",
      "fit_time [0.04303098 0.03502488 0.05602288]\n",
      "score_time [0.00399995 0.00400424 0.00500035]\n",
      "test_accuracy [0.50842697 0.49157303 0.52247191]\n",
      "train_accuracy [0.98885794 0.98321678 0.98786181]\n",
      "test_prec [0.50299401 0.5472973  0.50746269]\n",
      "train_prec [0.98461538 1.         0.994614  ]\n",
      " \n",
      "accuracy score on test set:  0.5052631578947369\n",
      "Performance on training data: \n",
      "\n"
     ]
    },
    {
     "data": {
      "image/png": "[encoded data removed]",
      "text/plain": [
       "<Figure size 432x288 with 1 Axes>"
      ]
     },
     "metadata": {},
     "output_type": "display_data"
    },
    {
     "name": "stdout",
     "output_type": "stream",
     "text": [
      "----------------------------------------------------------------------\n",
      "F beta score is: 0.9917695473251029\n",
      "----------------------------------------------------------------------\n",
      "F1 score is: 0.9877049180327868\n",
      "----------------------------------------------------------------------\n",
      "Classification Report: \n",
      "\n",
      "             precision    recall  f1-score   support\n",
      "\n",
      "          0       0.98      0.99      0.99       690\n",
      "          1       0.99      0.98      0.99       737\n",
      "\n",
      "avg / total       0.99      0.99      0.99      1427\n",
      "\n",
      "----------------------------------------------------------------------\n",
      "It took 0.0 sec to fit the model.\n",
      "----------------------------------------------------------------------\n",
      "Accuracy score: 0.987386\n",
      "AUC is: 0.987249\n",
      "----------------------------------------------------------------------\n",
      "Performance on testing data: \n",
      "\n"
     ]
    },
    {
     "data": {
      "image/png": "[encoded data removed]",
      "text/plain": [
       "<Figure size 432x288 with 1 Axes>"
      ]
     },
     "metadata": {},
     "output_type": "display_data"
    },
    {
     "name": "stdout",
     "output_type": "stream",
     "text": [
      "----------------------------------------------------------------------\n",
      "F beta score is: 0.49842602308499484\n",
      "----------------------------------------------------------------------\n",
      "F1 score is: 0.4470588235294118\n",
      "----------------------------------------------------------------------\n",
      "Classification Report: \n",
      "\n",
      "             precision    recall  f1-score   support\n",
      "\n",
      "          0       0.48      0.64      0.55       226\n",
      "          1       0.54      0.38      0.45       249\n",
      "\n",
      "avg / total       0.51      0.51      0.50       475\n",
      "\n",
      "----------------------------------------------------------------------\n",
      "It took 0.0 sec to fit the model.\n",
      "----------------------------------------------------------------------\n",
      "Accuracy score: 0.505263\n",
      "AUC is: 0.512361\n",
      "----------------------------------------------------------------------\n"
     ]
    }
   ],
   "source": [
    "clf = RandomForestClassifier()\n",
    "clf = clf_result(clf,X_train, X_test, y_train, y_test,3)"
   ]
  },
  {
   "cell_type": "markdown",
   "metadata": {
    "colab_type": "text",
    "id": "M2Dit44y6BY4"
   },
   "source": [
    "### SVM "
   ]
  },
  {
   "cell_type": "code",
   "execution_count": 50,
   "metadata": {
    "colab": {},
    "colab_type": "code",
    "id": "HiF5fSRf6BY4"
   },
   "outputs": [
    {
     "name": "stdout",
     "output_type": "stream",
     "text": [
      "training & CV result:\n",
      "fit_time [0.02301717 0.0400281  0.08105803]\n",
      "score_time [0.01701212 0.02801895 0.04203248]\n",
      "test_accuracy [0.50561798 0.5505618  0.48595506]\n",
      "train_accuracy [0.54874652 0.55664336 0.53688142]\n",
      "test_prec [0.5        0.54929577 0.48595506]\n",
      "train_prec [0.54441261 0.54333333 0.53359684]\n",
      " \n",
      "accuracy score on test set:  0.5242105263157895\n",
      "Performance on training data: \n",
      "\n"
     ]
    },
    {
     "data": {
      "image/png": "[encoded data removed]",
      "text/plain": [
       "<Figure size 432x288 with 1 Axes>"
      ]
     },
     "metadata": {},
     "output_type": "display_data"
    },
    {
     "name": "stdout",
     "output_type": "stream",
     "text": [
      "----------------------------------------------------------------------\n",
      "F beta score is: 0.5714285714285714\n",
      "----------------------------------------------------------------------\n",
      "F1 score is: 0.6757904672015103\n",
      "----------------------------------------------------------------------\n",
      "Classification Report: \n",
      "\n",
      "             precision    recall  f1-score   support\n",
      "\n",
      "          0       0.53      0.03      0.07       690\n",
      "          1       0.52      0.97      0.68       737\n",
      "\n",
      "avg / total       0.53      0.52      0.38      1427\n",
      "\n",
      "----------------------------------------------------------------------\n",
      "It took 0.0 sec to fit the model.\n",
      "----------------------------------------------------------------------\n",
      "Accuracy score: 0.518570\n",
      "AUC is: 0.525712\n",
      "----------------------------------------------------------------------\n",
      "Performance on testing data: \n",
      "\n"
     ]
    },
    {
     "data": {
      "image/png": "[encoded data removed]",
      "text/plain": [
       "<Figure size 432x288 with 1 Axes>"
      ]
     },
     "metadata": {},
     "output_type": "display_data"
    },
    {
     "name": "stdout",
     "output_type": "stream",
     "text": [
      "----------------------------------------------------------------------\n",
      "F beta score is: 0.5793392275476966\n",
      "----------------------------------------------------------------------\n",
      "F1 score is: 0.6878453038674033\n",
      "----------------------------------------------------------------------\n",
      "Classification Report: \n",
      "\n",
      "             precision    recall  f1-score   support\n",
      "\n",
      "          0       0.00      0.00      0.00       226\n",
      "          1       0.52      1.00      0.69       249\n",
      "\n",
      "avg / total       0.27      0.52      0.36       475\n",
      "\n",
      "----------------------------------------------------------------------\n",
      "It took 0.0 sec to fit the model.\n",
      "----------------------------------------------------------------------\n",
      "Accuracy score: 0.524211\n",
      "AUC is: nan\n",
      "----------------------------------------------------------------------\n"
     ]
    },
    {
     "name": "stderr",
     "output_type": "stream",
     "text": [
      "C:\\Users\\colin\\AppData\\Local\\conda\\conda\\envs\\Python36\\lib\\site-packages\\sklearn\\metrics\\classification.py:1135: UndefinedMetricWarning: Precision and F-score are ill-defined and being set to 0.0 in labels with no predicted samples.\n",
      "  'precision', 'predicted', average, warn_for)\n",
      "C:\\Users\\colin\\AppData\\Local\\conda\\conda\\envs\\Python36\\lib\\site-packages\\sklearn\\metrics\\ranking.py:563: UndefinedMetricWarning: No negative samples in y_true, false positive value should be meaningless\n",
      "  UndefinedMetricWarning)\n",
      "C:\\Users\\colin\\AppData\\Local\\conda\\conda\\envs\\Python36\\lib\\site-packages\\sklearn\\metrics\\ranking.py:94: RuntimeWarning: invalid value encountered in less\n",
      "  if np.any(dx < 0):\n"
     ]
    }
   ],
   "source": [
    "\n",
    "clf = SVC()\n",
    "clf = clf_result(clf,X_train, X_test, y_train, y_test,3)"
   ]
  },
  {
   "cell_type": "markdown",
   "metadata": {
    "colab_type": "text",
    "id": "PfDvlwQf6BY7"
   },
   "source": [
    "### Decision Tree"
   ]
  },
  {
   "cell_type": "code",
   "execution_count": 51,
   "metadata": {
    "colab": {},
    "colab_type": "code",
    "id": "2U9WiYD16BY7"
   },
   "outputs": [
    {
     "name": "stdout",
     "output_type": "stream",
     "text": [
      "training & CV result:\n",
      "fit_time [0.01100779 0.01700544 0.03402424]\n",
      "score_time [0.00200391 0.00100088 0.00100017]\n",
      "test_accuracy [0.50842697 0.50280899 0.48033708]\n",
      "train_accuracy [1. 1. 1.]\n",
      "test_prec [0.50387597 0.55696203 0.47029703]\n",
      "train_prec [1. 1. 1.]\n",
      " \n",
      "accuracy score on test set:  0.511578947368421\n",
      "Performance on training data: \n",
      "\n"
     ]
    },
    {
     "data": {
      "image/png": "[encoded data removed]",
      "text/plain": [
       "<Figure size 432x288 with 1 Axes>"
      ]
     },
     "metadata": {},
     "output_type": "display_data"
    },
    {
     "name": "stdout",
     "output_type": "stream",
     "text": [
      "----------------------------------------------------------------------\n",
      "F beta score is: 1.0\n",
      "----------------------------------------------------------------------\n",
      "F1 score is: 1.0\n",
      "----------------------------------------------------------------------\n",
      "Classification Report: \n",
      "\n",
      "             precision    recall  f1-score   support\n",
      "\n",
      "          0       1.00      1.00      1.00       690\n",
      "          1       1.00      1.00      1.00       737\n",
      "\n",
      "avg / total       1.00      1.00      1.00      1427\n",
      "\n",
      "----------------------------------------------------------------------\n",
      "It took 0.0 sec to fit the model.\n",
      "----------------------------------------------------------------------\n",
      "Accuracy score: 1.000000\n",
      "AUC is: 1.000000\n",
      "----------------------------------------------------------------------\n",
      "Performance on testing data: \n",
      "\n"
     ]
    },
    {
     "data": {
      "image/png": "[encoded data removed]",
      "text/plain": [
       "<Figure size 432x288 with 1 Axes>"
      ]
     },
     "metadata": {},
     "output_type": "display_data"
    },
    {
     "name": "stdout",
     "output_type": "stream",
     "text": [
      "----------------------------------------------------------------------\n",
      "F beta score is: 0.5142017629774731\n",
      "----------------------------------------------------------------------\n",
      "F1 score is: 0.47511312217194573\n",
      "----------------------------------------------------------------------\n",
      "Classification Report: \n",
      "\n",
      "             precision    recall  f1-score   support\n",
      "\n",
      "          0       0.49      0.61      0.54       226\n",
      "          1       0.54      0.42      0.48       249\n",
      "\n",
      "avg / total       0.52      0.51      0.51       475\n",
      "\n",
      "----------------------------------------------------------------------\n",
      "It took 0.0 sec to fit the model.\n",
      "----------------------------------------------------------------------\n",
      "Accuracy score: 0.511579\n",
      "AUC is: 0.516702\n",
      "----------------------------------------------------------------------\n"
     ]
    }
   ],
   "source": [
    "from sklearn.tree import DecisionTreeClassifier\n",
    "\n",
    "clf_dt = DecisionTreeClassifier()\n",
    "clf_dt = clf_result(clf_dt,X_train, X_test, y_train, y_test,3)"
   ]
  },
  {
   "cell_type": "code",
   "execution_count": 52,
   "metadata": {
    "colab": {},
    "colab_type": "code",
    "id": "qMT4AKsS6BY-"
   },
   "outputs": [
    {
     "name": "stdout",
     "output_type": "stream",
     "text": [
      "training & CV result:\n",
      "fit_time [0.05705619 0.17412519 0.378268  ]\n",
      "score_time [0.01499176 0.02701879 0.03902936]\n",
      "test_accuracy [0.51685393 0.49719101 0.47191011]\n",
      "train_accuracy [0.55988858 0.55244755 0.54621849]\n",
      "test_prec [0.50847458 0.53508772 0.46781116]\n",
      "train_prec [0.55892256 0.55093555 0.54744526]\n",
      " \n",
      "accuracy score on test set:  0.5052631578947369\n",
      "Performance on training data: \n",
      "\n"
     ]
    },
    {
     "data": {
      "image/png": "[encoded data removed]",
      "text/plain": [
       "<Figure size 432x288 with 1 Axes>"
      ]
     },
     "metadata": {},
     "output_type": "display_data"
    },
    {
     "name": "stdout",
     "output_type": "stream",
     "text": [
      "----------------------------------------------------------------------\n",
      "F beta score is: 0.5718987862579715\n",
      "----------------------------------------------------------------------\n",
      "F1 score is: 0.6289592760180995\n",
      "----------------------------------------------------------------------\n",
      "Classification Report: \n",
      "\n",
      "             precision    recall  f1-score   support\n",
      "\n",
      "          0       0.54      0.31      0.40       690\n",
      "          1       0.54      0.75      0.63       737\n",
      "\n",
      "avg / total       0.54      0.54      0.52      1427\n",
      "\n",
      "----------------------------------------------------------------------\n",
      "It took 0.0 sec to fit the model.\n",
      "----------------------------------------------------------------------\n",
      "Accuracy score: 0.540294\n",
      "AUC is: 0.541106\n",
      "----------------------------------------------------------------------\n",
      "Performance on testing data: \n",
      "\n"
     ]
    },
    {
     "data": {
      "image/png": "[encoded data removed]",
      "text/plain": [
       "<Figure size 432x288 with 1 Axes>"
      ]
     },
     "metadata": {},
     "output_type": "display_data"
    },
    {
     "name": "stdout",
     "output_type": "stream",
     "text": [
      "----------------------------------------------------------------------\n",
      "F beta score is: 0.5608718766613504\n",
      "----------------------------------------------------------------------\n",
      "F1 score is: 0.6423135464231355\n",
      "----------------------------------------------------------------------\n",
      "Classification Report: \n",
      "\n",
      "             precision    recall  f1-score   support\n",
      "\n",
      "          0       0.43      0.13      0.20       226\n",
      "          1       0.52      0.85      0.64       249\n",
      "\n",
      "avg / total       0.48      0.51      0.43       475\n",
      "\n",
      "----------------------------------------------------------------------\n",
      "It took 0.0 sec to fit the model.\n",
      "----------------------------------------------------------------------\n",
      "Accuracy score: 0.505263\n",
      "AUC is: 0.474996\n",
      "----------------------------------------------------------------------\n"
     ]
    }
   ],
   "source": [
    "import warnings\n",
    "warnings.filterwarnings('ignore')\n",
    "\n",
    "############ Trying ensemble voting with average ##########\n",
    "# create the sub models\n",
    "from sklearn.ensemble import VotingClassifier\n",
    "\n",
    "estimators = []\n",
    "model1 = LogisticRegression(penalty='l2', C = 1.1)\n",
    "estimators.append(('logistic', model1))\n",
    "model2 =  LinearDiscriminantAnalysis()\n",
    "\n",
    "estimators.append(('lda', model2))\n",
    "model3 = SVC(C=2, cache_size=200, class_weight=None, coef0=0.0,\n",
    "  decision_function_shape='ovr', degree=3, gamma='auto', kernel='rbf',\n",
    "  max_iter=-1, probability=True, random_state=None, shrinking=True,\n",
    "  tol=0.001, verbose=False)\n",
    "\n",
    "estimators.append(('svm', model3))\n",
    "\n",
    "# create the ensemble model\n",
    "ensemble = VotingClassifier(estimators, voting='soft', weights=[1,0,0])\n",
    "\n",
    "\n",
    "clf = clf_result(ensemble,X_train, X_test, y_train, y_test,3)"
   ]
  },
  {
   "cell_type": "markdown",
   "metadata": {
    "colab_type": "text",
    "id": "EBbZEvOI6BZB"
   },
   "source": [
    "# RFE\n",
    "- might not work as well as we had expected, because different features adds something differently and cutting out half of the features isn't great."
   ]
  },
  {
   "cell_type": "code",
   "execution_count": 53,
   "metadata": {
    "colab": {},
    "colab_type": "code",
    "id": "a0gMream6BZC"
   },
   "outputs": [
    {
     "data": {
      "text/plain": [
       "(1902,)"
      ]
     },
     "execution_count": 53,
     "metadata": {},
     "output_type": "execute_result"
    }
   ],
   "source": [
    "y.shape"
   ]
  },
  {
   "cell_type": "code",
   "execution_count": 54,
   "metadata": {
    "colab": {},
    "colab_type": "code",
    "id": "aaJJfcgz6BZF"
   },
   "outputs": [
    {
     "data": {
      "text/plain": [
       "(1902, 31)"
      ]
     },
     "execution_count": 54,
     "metadata": {},
     "output_type": "execute_result"
    }
   ],
   "source": [
    "X.shape"
   ]
  },
  {
   "cell_type": "code",
   "execution_count": 55,
   "metadata": {
    "colab": {},
    "colab_type": "code",
    "id": "iISBn05U6BZI"
   },
   "outputs": [],
   "source": [
    "# Feature Extraction with RFE\n",
    "from sklearn.feature_selection import RFE\n",
    "from sklearn.linear_model import LogisticRegression\n",
    "\n",
    "# seperate training data from testing data\n",
    "X_train, X_test, y_train, y_test = ts_train_test_split(X,y,3)\n",
    "\n",
    "# standardize features\n",
    "X_train, X_test = ts_train_test_standardize(X_train, X_test)"
   ]
  },
  {
   "cell_type": "code",
   "execution_count": 56,
   "metadata": {
    "colab": {},
    "colab_type": "code",
    "id": "CkciSAYq6BZL"
   },
   "outputs": [
    {
     "name": "stdout",
     "output_type": "stream",
     "text": [
      "Num Features: 15\n",
      "Selected Features: [ True  True False  True  True False False False False False False  True\n",
      " False  True  True False  True  True  True False False False False False\n",
      " False  True  True  True  True  True False]\n",
      "Feature Ranking: [1 1 7 1 1 6 3 6 5 5 4 1 7 1 1 7 1 1 1 4 4 5 3 2 3 1 1 1 1 1 6]\n",
      "['USDEUR', 'USDYuan', 'totpats', 'accrual', 'DGS10', 'BAB', 'MKT', 'SMB', 'UMD', 'RF', 'HML', 'compound', 'neg', 'neu', 'pos', 'aapl: (Worldwide)', 'AAPL US Equity Hist Vol (10)', 'AAPL US Equity Hist Vol (30)', 'AAPL US Equity Hist Vol (50)', 'AAPL US Equity Hist Vol (100)', 'AAPL Adj Close Diff', 'Return_(t-1)_t_AAPL', 'Return_(t-2)_t_AAPL', 'Return_(t-3)_(t-1)_AAPL', 'Return_(t-1)_t_SP', 'Open_Close_Diff_AAPL', 'High_Low_Diff_AAPL', 'Open_Close_Diff_VIX', 'High_Low_Diff_VIX', 'Chg_in_volume', 'FutDiff']\n",
      "<zip object at 0x00000083266DC608>\n",
      "{'USDEUR': 1, 'USDYuan': 1, 'totpats': 7, 'accrual': 1, 'DGS10': 1, 'BAB': 6, 'MKT': 3, 'SMB': 6, 'UMD': 5, 'RF': 5, 'HML': 4, 'compound': 1, 'neg': 7, 'neu': 1, 'pos': 1, 'aapl: (Worldwide)': 7, 'AAPL US Equity Hist Vol (10)': 1, 'AAPL US Equity Hist Vol (30)': 1, 'AAPL US Equity Hist Vol (50)': 1, 'AAPL US Equity Hist Vol (100)': 4, 'AAPL Adj Close Diff': 4, 'Return_(t-1)_t_AAPL': 5, 'Return_(t-2)_t_AAPL': 3, 'Return_(t-3)_(t-1)_AAPL': 2, 'Return_(t-1)_t_SP': 3, 'Open_Close_Diff_AAPL': 1, 'High_Low_Diff_AAPL': 1, 'Open_Close_Diff_VIX': 1, 'High_Low_Diff_VIX': 1, 'Chg_in_volume': 1, 'FutDiff': 6}\n"
     ]
    }
   ],
   "source": [
    "# feature extraction\n",
    "model = LogisticRegression()\n",
    "rfe = RFE(estimator=model, n_features_to_select=None, step=3)\n",
    "fit = rfe.fit(X_train, y_train)\n",
    "print(\"Num Features: \" + str(fit.n_features_))\n",
    "print(\"Selected Features: \" + str(fit.support_))\n",
    "print(\"Feature Ranking: \" + str(fit.ranking_))\n",
    "print(Features)\n",
    "\n",
    "d = {}\n",
    "feature_and_tf = zip(Features, list(fit.ranking_))\n",
    "print(feature_and_tf)\n",
    "\n",
    "for f, r in feature_and_tf:\n",
    "    d[f] = r\n",
    "print(d)"
   ]
  },
  {
   "cell_type": "code",
   "execution_count": 57,
   "metadata": {
    "colab": {},
    "colab_type": "code",
    "id": "P4lUaBez6BZN"
   },
   "outputs": [
    {
     "data": {
      "text/plain": [
       "['USDEUR',\n",
       " 'USDYuan',\n",
       " 'accrual',\n",
       " 'DGS10',\n",
       " 'compound',\n",
       " 'neu',\n",
       " 'pos',\n",
       " 'AAPL US Equity Hist Vol (10)',\n",
       " 'AAPL US Equity Hist Vol (30)',\n",
       " 'AAPL US Equity Hist Vol (50)',\n",
       " 'Open_Close_Diff_AAPL',\n",
       " 'High_Low_Diff_AAPL',\n",
       " 'Open_Close_Diff_VIX',\n",
       " 'High_Low_Diff_VIX',\n",
       " 'Chg_in_volume']"
      ]
     },
     "execution_count": 57,
     "metadata": {},
     "output_type": "execute_result"
    }
   ],
   "source": [
    "new_d = dict((key,value) for key, value in d.items() if value == 1)\n",
    "list(new_d.keys())"
   ]
  },
  {
   "cell_type": "code",
   "execution_count": 58,
   "metadata": {
    "colab": {},
    "colab_type": "code",
    "id": "CF1KbDY96BZO"
   },
   "outputs": [],
   "source": [
    "# Not all features are selected.\n",
    "selected_features = list(new_d.keys())\n",
    "X = df_concat[selected_features].iloc[:-1,:].values\n",
    "y = df_concat[['Direction']].iloc[1:,:].values.T[0]\n",
    "\n",
    "# seperate training data from testing data\n",
    "X_train, X_test, y_train, y_test = ts_train_test_split(X,y,3)\n",
    "\n",
    "# standardize features\n",
    "X_train, X_test = ts_train_test_standardize(X_train, X_test)"
   ]
  },
  {
   "cell_type": "code",
   "execution_count": 59,
   "metadata": {
    "colab": {},
    "colab_type": "code",
    "id": "BQc29mNu6BZR"
   },
   "outputs": [
    {
     "name": "stdout",
     "output_type": "stream",
     "text": [
      "(1427, 15)\n",
      "(475, 15)\n",
      "(1427,)\n",
      "(475,)\n",
      "training & CV result:\n",
      "fit_time [0.00400281 0.00200319 0.00600314]\n",
      "score_time [0.00100136 0.00201821 0.00200319]\n",
      "test_accuracy [0.51966292 0.53651685 0.49438202]\n",
      "train_accuracy [0.54874652 0.56083916 0.55275444]\n",
      "test_prec [0.51012146 0.54545455 0.48186528]\n",
      "train_prec [0.55363322 0.55646817 0.55227552]\n",
      " \n",
      "accuracy score on test set:  0.49473684210526314\n",
      "Performance on training data: \n",
      "\n"
     ]
    },
    {
     "data": {
      "image/png": "[encoded data removed]",
      "text/plain": [
       "<Figure size 432x288 with 1 Axes>"
      ]
     },
     "metadata": {},
     "output_type": "display_data"
    },
    {
     "name": "stdout",
     "output_type": "stream",
     "text": [
      "----------------------------------------------------------------------\n",
      "F beta score is: 0.5764730908317378\n",
      "----------------------------------------------------------------------\n",
      "F1 score is: 0.6273148148148149\n",
      "----------------------------------------------------------------------\n",
      "Classification Report: \n",
      "\n",
      "             precision    recall  f1-score   support\n",
      "\n",
      "          0       0.55      0.35      0.43       690\n",
      "          1       0.55      0.74      0.63       737\n",
      "\n",
      "avg / total       0.55      0.55      0.53      1427\n",
      "\n",
      "----------------------------------------------------------------------\n",
      "It took 0.0 sec to fit the model.\n",
      "----------------------------------------------------------------------\n",
      "Accuracy score: 0.548704\n",
      "AUC is: 0.549837\n",
      "----------------------------------------------------------------------\n",
      "Performance on testing data: \n",
      "\n"
     ]
    },
    {
     "data": {
      "image/png": "[encoded data removed]",
      "text/plain": [
       "<Figure size 432x288 with 1 Axes>"
      ]
     },
     "metadata": {},
     "output_type": "display_data"
    },
    {
     "name": "stdout",
     "output_type": "stream",
     "text": [
      "----------------------------------------------------------------------\n",
      "F beta score is: 0.5518945634266886\n",
      "----------------------------------------------------------------------\n",
      "F1 score is: 0.6261682242990654\n",
      "----------------------------------------------------------------------\n",
      "Classification Report: \n",
      "\n",
      "             precision    recall  f1-score   support\n",
      "\n",
      "          0       0.41      0.15      0.22       226\n",
      "          1       0.51      0.81      0.63       249\n",
      "\n",
      "avg / total       0.47      0.49      0.43       475\n",
      "\n",
      "----------------------------------------------------------------------\n",
      "It took 0.0 sec to fit the model.\n",
      "----------------------------------------------------------------------\n",
      "Accuracy score: 0.494737\n",
      "AUC is: 0.463042\n",
      "----------------------------------------------------------------------\n"
     ]
    }
   ],
   "source": [
    "print(X_train.shape)\n",
    "print(X_test.shape)\n",
    "print(y_train.shape)\n",
    "print(y_test.shape)\n",
    "clf = LogisticRegression()\n",
    "clf = clf_result(clf,X_train, X_test, y_train, y_test,3)"
   ]
  },
  {
   "cell_type": "markdown",
   "metadata": {
    "colab_type": "text",
    "id": "tJCDSK2u6BZV"
   },
   "source": [
    "## Decision Tree GridSearch"
   ]
  },
  {
   "cell_type": "code",
   "execution_count": 60,
   "metadata": {
    "colab": {},
    "colab_type": "code",
    "id": "1Xha9ctq6BZV"
   },
   "outputs": [
    {
     "name": "stdout",
     "output_type": "stream",
     "text": [
      "The best dt is: \n"
     ]
    },
    {
     "data": {
      "text/plain": [
       "DecisionTreeClassifier(class_weight=None, criterion='gini', max_depth=None,\n",
       "            max_features='log2', max_leaf_nodes=None,\n",
       "            min_impurity_decrease=0.0, min_impurity_split=None,\n",
       "            min_samples_leaf=5, min_samples_split=2,\n",
       "            min_weight_fraction_leaf=0.0, presort=False, random_state=295,\n",
       "            splitter='best')"
      ]
     },
     "execution_count": 60,
     "metadata": {},
     "output_type": "execute_result"
    }
   ],
   "source": [
    "# Do a GridSearchCV\n",
    "from sklearn.model_selection import GridSearchCV\n",
    "from sklearn.tree import DecisionTreeClassifier\n",
    "\n",
    "dt_params = {'max_depth': [None, 2,5], 'min_samples_leaf': [1, 5],\n",
    "              'min_samples_split': [2,5], 'max_features': ['log2', None],'random_state':[295]}\n",
    "grid_dt = GridSearchCV(DecisionTreeClassifier(), dt_params, cv = tscv)\n",
    "grid_dt.fit(X_train, y_train)\n",
    "# best estimator\n",
    "dt = grid_dt.best_estimator_\n",
    "print('The best dt is: ')\n",
    "dt"
   ]
  },
  {
   "cell_type": "code",
   "execution_count": 61,
   "metadata": {
    "colab": {},
    "colab_type": "code",
    "id": "6-CXuHIn6BZX"
   },
   "outputs": [
    {
     "name": "stdout",
     "output_type": "stream",
     "text": [
      "training & CV result:\n",
      "fit_time [0.00300145 0.002002   0.00353146]\n",
      "score_time [0.00400233 0.00100231 0.00100064]\n",
      "test_accuracy [0.51685393 0.51966292 0.54775281]\n",
      "train_accuracy [0.82172702 0.79300699 0.82446312]\n",
      "test_prec [0.51515152 0.55263158 0.52777778]\n",
      "train_prec [0.85635359 0.78552972 0.82638889]\n",
      " \n",
      "accuracy score on test set:  0.5010526315789474\n",
      "Performance on training data: \n",
      "\n"
     ]
    },
    {
     "data": {
      "image/png": "[encoded data removed]",
      "text/plain": [
       "<Figure size 432x288 with 1 Axes>"
      ]
     },
     "metadata": {},
     "output_type": "display_data"
    },
    {
     "name": "stdout",
     "output_type": "stream",
     "text": [
      "----------------------------------------------------------------------\n",
      "F beta score is: 0.8147415984185257\n",
      "----------------------------------------------------------------------\n",
      "F1 score is: 0.8025034770514602\n",
      "----------------------------------------------------------------------\n",
      "Classification Report: \n",
      "\n",
      "             precision    recall  f1-score   support\n",
      "\n",
      "          0       0.78      0.82      0.80       690\n",
      "          1       0.82      0.78      0.80       737\n",
      "\n",
      "avg / total       0.80      0.80      0.80      1427\n",
      "\n",
      "----------------------------------------------------------------------\n",
      "It took 0.0 sec to fit the model.\n",
      "----------------------------------------------------------------------\n",
      "Accuracy score: 0.800981\n",
      "AUC is: 0.801362\n",
      "----------------------------------------------------------------------\n",
      "Performance on testing data: \n",
      "\n"
     ]
    },
    {
     "data": {
      "image/png": "[encoded data removed]",
      "text/plain": [
       "<Figure size 432x288 with 1 Axes>"
      ]
     },
     "metadata": {},
     "output_type": "display_data"
    },
    {
     "name": "stdout",
     "output_type": "stream",
     "text": [
      "----------------------------------------------------------------------\n",
      "F beta score is: 0.5263157894736842\n",
      "----------------------------------------------------------------------\n",
      "F1 score is: 0.5306930693069307\n",
      "----------------------------------------------------------------------\n",
      "Classification Report: \n",
      "\n",
      "             precision    recall  f1-score   support\n",
      "\n",
      "          0       0.47      0.46      0.47       226\n",
      "          1       0.52      0.54      0.53       249\n",
      "\n",
      "avg / total       0.50      0.50      0.50       475\n",
      "\n",
      "----------------------------------------------------------------------\n",
      "It took 0.0 sec to fit the model.\n",
      "----------------------------------------------------------------------\n",
      "Accuracy score: 0.501053\n",
      "AUC is: 0.499162\n",
      "----------------------------------------------------------------------\n"
     ]
    }
   ],
   "source": [
    "clf = dt\n",
    "clf = clf_result(clf,X_train, X_test, y_train, y_test,3)"
   ]
  },
  {
   "cell_type": "markdown",
   "metadata": {
    "colab_type": "text",
    "id": "zz6Qmn7R6BZZ"
   },
   "source": [
    "### Random forest"
   ]
  },
  {
   "cell_type": "code",
   "execution_count": 62,
   "metadata": {
    "colab": {},
    "colab_type": "code",
    "id": "ZRCzwxiK6BZb"
   },
   "outputs": [
    {
     "name": "stdout",
     "output_type": "stream",
     "text": [
      "The best rf is: \n"
     ]
    },
    {
     "data": {
      "text/plain": [
       "RandomForestClassifier(bootstrap=True, class_weight=None, criterion='gini',\n",
       "            max_depth=None, max_features='log2', max_leaf_nodes=None,\n",
       "            min_impurity_decrease=0.0, min_impurity_split=None,\n",
       "            min_samples_leaf=1, min_samples_split=5,\n",
       "            min_weight_fraction_leaf=0.0, n_estimators=100, n_jobs=1,\n",
       "            oob_score=False, random_state=None, verbose=0,\n",
       "            warm_start=False)"
      ]
     },
     "execution_count": 62,
     "metadata": {},
     "output_type": "execute_result"
    }
   ],
   "source": [
    "# Do a GridSearchCV\n",
    "from sklearn.model_selection import GridSearchCV\n",
    "from sklearn.ensemble import RandomForestClassifier\n",
    "\n",
    "rf_params = {'n_estimators': [10,50,100,200], 'max_depth': [None, 2,5], 'max_leaf_nodes': [None, 5],\n",
    "              'min_samples_split': [2,5], 'max_features': ['log2', None]}\n",
    "grid_rf = GridSearchCV(RandomForestClassifier(), rf_params, cv = tscv)\n",
    "grid_rf.fit(X_train, y_train)\n",
    "# best estimator\n",
    "rf = grid_rf.best_estimator_\n",
    "print('The best rf is: ')\n",
    "rf"
   ]
  },
  {
   "cell_type": "code",
   "execution_count": 63,
   "metadata": {
    "colab": {},
    "colab_type": "code",
    "id": "IqZIGJNB6BZd"
   },
   "outputs": [
    {
     "name": "stdout",
     "output_type": "stream",
     "text": [
      "training & CV result:\n",
      "fit_time [0.05503988 0.06804729 0.07907581]\n",
      "score_time [0.01000619 0.00400329 0.004004  ]\n",
      "test_accuracy [0.51404494 0.50842697 0.5252809 ]\n",
      "train_accuracy [0.97493036 0.94125874 0.90102708]\n",
      "test_prec [0.50724638 0.55376344 0.51086957]\n",
      "train_prec [0.96464646 0.93139842 0.88945578]\n",
      " \n",
      "accuracy score on test set:  0.5010526315789474\n",
      "Performance on training data: \n",
      "\n"
     ]
    },
    {
     "data": {
      "image/png": "[encoded data removed]",
      "text/plain": [
       "<Figure size 432x288 with 1 Axes>"
      ]
     },
     "metadata": {},
     "output_type": "display_data"
    },
    {
     "name": "stdout",
     "output_type": "stream",
     "text": [
      "----------------------------------------------------------------------\n",
      "F beta score is: 0.8563116620288389\n",
      "----------------------------------------------------------------------\n",
      "F1 score is: 0.8786502271252434\n",
      "----------------------------------------------------------------------\n",
      "Classification Report: \n",
      "\n",
      "             precision    recall  f1-score   support\n",
      "\n",
      "          0       0.90      0.82      0.86       690\n",
      "          1       0.84      0.92      0.88       737\n",
      "\n",
      "avg / total       0.87      0.87      0.87      1427\n",
      "\n",
      "----------------------------------------------------------------------\n",
      "It took 0.0 sec to fit the model.\n",
      "----------------------------------------------------------------------\n",
      "Accuracy score: 0.868956\n",
      "AUC is: 0.872866\n",
      "----------------------------------------------------------------------\n",
      "Performance on testing data: \n",
      "\n"
     ]
    },
    {
     "data": {
      "image/png": "[encoded data removed]",
      "text/plain": [
       "<Figure size 432x288 with 1 Axes>"
      ]
     },
     "metadata": {},
     "output_type": "display_data"
    },
    {
     "name": "stdout",
     "output_type": "stream",
     "text": [
      "----------------------------------------------------------------------\n",
      "F beta score is: 0.5121293800539083\n",
      "----------------------------------------------------------------------\n",
      "F1 score is: 0.4903225806451612\n",
      "----------------------------------------------------------------------\n",
      "Classification Report: \n",
      "\n",
      "             precision    recall  f1-score   support\n",
      "\n",
      "          0       0.48      0.55      0.51       226\n",
      "          1       0.53      0.46      0.49       249\n",
      "\n",
      "avg / total       0.50      0.50      0.50       475\n",
      "\n",
      "----------------------------------------------------------------------\n",
      "It took 0.0 sec to fit the model.\n",
      "----------------------------------------------------------------------\n",
      "Accuracy score: 0.501053\n",
      "AUC is: 0.503271\n",
      "----------------------------------------------------------------------\n"
     ]
    }
   ],
   "source": [
    "clf = RandomForestClassifier(bootstrap=True, class_weight=None, criterion='gini',\n",
    "            max_depth=10, max_features=None, max_leaf_nodes=None,\n",
    "            min_impurity_decrease=0.0, min_impurity_split=None,\n",
    "            min_samples_leaf=1, min_samples_split=5,\n",
    "            min_weight_fraction_leaf=0.0, n_estimators=10, n_jobs=1,\n",
    "            oob_score=False, random_state=None, verbose=0,\n",
    "            warm_start=False)\n",
    "clf = clf_result(clf,X_train, X_test, y_train, y_test,3)"
   ]
  },
  {
   "cell_type": "markdown",
   "metadata": {
    "colab_type": "text",
    "id": "ecYBYcKC6BZf"
   },
   "source": [
    "### SVM"
   ]
  },
  {
   "cell_type": "code",
   "execution_count": 64,
   "metadata": {
    "colab": {},
    "colab_type": "code",
    "id": "aV2ip9cs6BZf"
   },
   "outputs": [
    {
     "name": "stdout",
     "output_type": "stream",
     "text": [
      "The best svc is: \n"
     ]
    },
    {
     "data": {
      "text/plain": [
       "SVC(C=5, cache_size=200, class_weight=None, coef0=0.0,\n",
       "  decision_function_shape='ovr', degree=3, gamma='auto', kernel='linear',\n",
       "  max_iter=-1, probability=False, random_state=None, shrinking=True,\n",
       "  tol=0.001, verbose=False)"
      ]
     },
     "execution_count": 64,
     "metadata": {},
     "output_type": "execute_result"
    }
   ],
   "source": [
    "# Do a GridSearchCV\n",
    "\n",
    "svc_params = {'C': [0.5,1,2,5], 'kernel': ['linear','rbf', 'sigmoid','poly']}\n",
    "grid_svc = GridSearchCV(SVC(), svc_params, cv = tscv)\n",
    "grid_svc.fit(X_train, y_train)\n",
    "# best estimator\n",
    "svc_best = grid_svc.best_estimator_\n",
    "print('The best svc is: ')\n",
    "svc_best"
   ]
  },
  {
   "cell_type": "code",
   "execution_count": 65,
   "metadata": {
    "colab": {},
    "colab_type": "code",
    "id": "wJyVu0rc6BZi"
   },
   "outputs": [
    {
     "name": "stdout",
     "output_type": "stream",
     "text": [
      "training & CV result:\n",
      "fit_time [0.01601052 0.03302193 0.07204795]\n",
      "score_time [0.01801276 0.01300764 0.01901388]\n",
      "test_accuracy [0.5252809  0.55337079 0.48876404]\n",
      "train_accuracy [0.55431755 0.55104895 0.54901961]\n",
      "test_prec [0.51372549 0.55142857 0.4784689 ]\n",
      "train_prec [0.55339806 0.54181185 0.54397394]\n",
      " \n",
      "accuracy score on test set:  0.5094736842105263\n",
      "Performance on training data: \n",
      "\n"
     ]
    },
    {
     "data": {
      "image/png": "[encoded data removed]",
      "text/plain": [
       "<Figure size 432x288 with 1 Axes>"
      ]
     },
     "metadata": {},
     "output_type": "display_data"
    },
    {
     "name": "stdout",
     "output_type": "stream",
     "text": [
      "----------------------------------------------------------------------\n",
      "F beta score is: 0.5839759262742147\n",
      "----------------------------------------------------------------------\n",
      "F1 score is: 0.6599362380446334\n",
      "----------------------------------------------------------------------\n",
      "Classification Report: \n",
      "\n",
      "             precision    recall  f1-score   support\n",
      "\n",
      "          0       0.59      0.24      0.34       690\n",
      "          1       0.54      0.84      0.66       737\n",
      "\n",
      "avg / total       0.56      0.55      0.51      1427\n",
      "\n",
      "----------------------------------------------------------------------\n",
      "It took 0.0 sec to fit the model.\n",
      "----------------------------------------------------------------------\n",
      "Accuracy score: 0.551507\n",
      "AUC is: 0.565505\n",
      "----------------------------------------------------------------------\n",
      "Performance on testing data: \n",
      "\n"
     ]
    },
    {
     "data": {
      "image/png": "[encoded data removed]",
      "text/plain": [
       "<Figure size 432x288 with 1 Axes>"
      ]
     },
     "metadata": {},
     "output_type": "display_data"
    },
    {
     "name": "stdout",
     "output_type": "stream",
     "text": [
      "----------------------------------------------------------------------\n",
      "F beta score is: 0.5640484976278334\n",
      "----------------------------------------------------------------------\n",
      "F1 score is: 0.6475037821482602\n",
      "----------------------------------------------------------------------\n",
      "Classification Report: \n",
      "\n",
      "             precision    recall  f1-score   support\n",
      "\n",
      "          0       0.44      0.12      0.19       226\n",
      "          1       0.52      0.86      0.65       249\n",
      "\n",
      "avg / total       0.48      0.51      0.43       475\n",
      "\n",
      "----------------------------------------------------------------------\n",
      "It took 0.0 sec to fit the model.\n",
      "----------------------------------------------------------------------\n",
      "Accuracy score: 0.509474\n",
      "AUC is: 0.481931\n",
      "----------------------------------------------------------------------\n"
     ]
    }
   ],
   "source": [
    "clf = svc_best\n",
    "clf = clf_result(clf,X_train, X_test, y_train, y_test,3)"
   ]
  },
  {
   "cell_type": "markdown",
   "metadata": {
    "colab_type": "text",
    "id": "fURy_WFf6BZj"
   },
   "source": [
    "## Neural Net"
   ]
  },
  {
   "cell_type": "code",
   "execution_count": 66,
   "metadata": {
    "colab": {},
    "colab_type": "code",
    "id": "B0nuZI476BZk"
   },
   "outputs": [],
   "source": [
    "from sklearn.neural_network import MLPClassifier"
   ]
  },
  {
   "cell_type": "code",
   "execution_count": 67,
   "metadata": {
    "colab": {},
    "colab_type": "code",
    "id": "lySbx2V16BZn"
   },
   "outputs": [
    {
     "data": {
      "text/plain": [
       "(1427, 15)"
      ]
     },
     "execution_count": 67,
     "metadata": {},
     "output_type": "execute_result"
    }
   ],
   "source": [
    "X_train.shape"
   ]
  },
  {
   "cell_type": "code",
   "execution_count": 68,
   "metadata": {
    "colab": {},
    "colab_type": "code",
    "id": "Kkac20ZJ6BZn"
   },
   "outputs": [
    {
     "data": {
      "text/plain": [
       "MLPClassifier(activation='relu', alpha=1e-05, batch_size='auto', beta_1=0.9,\n",
       "       beta_2=0.999, early_stopping=False, epsilon=1e-08,\n",
       "       hidden_layer_sizes=(17, 8, 4, 2), learning_rate='constant',\n",
       "       learning_rate_init=0.001, max_iter=200, momentum=0.9,\n",
       "       nesterovs_momentum=True, power_t=0.5, random_state=1, shuffle=True,\n",
       "       solver='lbfgs', tol=0.0001, validation_fraction=0.1, verbose=False,\n",
       "       warm_start=False)"
      ]
     },
     "execution_count": 68,
     "metadata": {},
     "output_type": "execute_result"
    }
   ],
   "source": [
    "clfNN = MLPClassifier(solver='lbfgs', alpha=1e-5, hidden_layer_sizes=(17, 8, 4, 2), random_state=1)\n",
    "clfNN.fit(X_train, y_train)"
   ]
  },
  {
   "cell_type": "code",
   "execution_count": 69,
   "metadata": {
    "colab": {},
    "colab_type": "code",
    "id": "_7ZvgYs86BZq"
   },
   "outputs": [
    {
     "data": {
      "text/plain": [
       "0.5389473684210526"
      ]
     },
     "execution_count": 69,
     "metadata": {},
     "output_type": "execute_result"
    }
   ],
   "source": [
    "clfNN.score(X_test, y_test)"
   ]
  },
  {
   "cell_type": "markdown",
   "metadata": {
    "colab_type": "text",
    "id": "yFSOf0w26BZs"
   },
   "source": [
    "## Ensemble Learning"
   ]
  },
  {
   "cell_type": "code",
   "execution_count": 70,
   "metadata": {
    "colab": {},
    "colab_type": "code",
    "id": "BYz6Zyvt6BZs"
   },
   "outputs": [
    {
     "name": "stdout",
     "output_type": "stream",
     "text": [
      "training & CV result:\n",
      "fit_time [0.4022851  0.4192977  0.50536084]\n",
      "score_time [0.01300979 0.0130291  0.0110085 ]\n",
      "test_accuracy [0.52808989 0.54494382 0.51404494]\n",
      "train_accuracy [0.88022284 0.85734266 0.86181139]\n",
      "test_prec [0.52702703 0.58638743 0.5       ]\n",
      "train_prec [0.86057692 0.82962963 0.85738832]\n",
      " \n",
      "accuracy score on test set:  0.5431578947368421\n",
      "Performance on training data: \n",
      "\n"
     ]
    },
    {
     "data": {
      "image/png": "[encoded data removed]",
      "text/plain": [
       "<Figure size 432x288 with 1 Axes>"
      ]
     },
     "metadata": {},
     "output_type": "display_data"
    },
    {
     "name": "stdout",
     "output_type": "stream",
     "text": [
      "----------------------------------------------------------------------\n",
      "F beta score is: 0.8409268419682375\n",
      "----------------------------------------------------------------------\n",
      "F1 score is: 0.853932584269663\n",
      "----------------------------------------------------------------------\n",
      "Classification Report: \n",
      "\n",
      "             precision    recall  f1-score   support\n",
      "\n",
      "          0       0.86      0.81      0.84       690\n",
      "          1       0.83      0.88      0.85       737\n",
      "\n",
      "avg / total       0.85      0.85      0.84      1427\n",
      "\n",
      "----------------------------------------------------------------------\n",
      "It took 0.0 sec to fit the model.\n",
      "----------------------------------------------------------------------\n",
      "Accuracy score: 0.845130\n",
      "AUC is: 0.846345\n",
      "----------------------------------------------------------------------\n",
      "Performance on testing data: \n",
      "\n"
     ]
    },
    {
     "data": {
      "image/png": "[encoded data removed]",
      "text/plain": [
       "<Figure size 432x288 with 1 Axes>"
      ]
     },
     "metadata": {},
     "output_type": "display_data"
    },
    {
     "name": "stdout",
     "output_type": "stream",
     "text": [
      "----------------------------------------------------------------------\n",
      "F beta score is: 0.5713271823988645\n",
      "----------------------------------------------------------------------\n",
      "F1 score is: 0.5974025974025974\n",
      "----------------------------------------------------------------------\n",
      "Classification Report: \n",
      "\n",
      "             precision    recall  f1-score   support\n",
      "\n",
      "          0       0.52      0.43      0.47       226\n",
      "          1       0.56      0.65      0.60       249\n",
      "\n",
      "avg / total       0.54      0.54      0.54       475\n",
      "\n",
      "----------------------------------------------------------------------\n",
      "It took 0.0 sec to fit the model.\n",
      "----------------------------------------------------------------------\n",
      "Accuracy score: 0.543158\n",
      "AUC is: 0.539748\n",
      "----------------------------------------------------------------------\n"
     ]
    }
   ],
   "source": [
    "from sklearn.ensemble import GradientBoostingClassifier\n",
    "from xgboost.sklearn import XGBClassifier\n",
    "\n",
    "import warnings\n",
    "warnings.filterwarnings('ignore')\n",
    "\n",
    "############ Trying ensemble voting with average ##########\n",
    "# create the sub models\n",
    "from sklearn.ensemble import VotingClassifier\n",
    "\n",
    "estimators = []\n",
    "model1 = dt\n",
    "estimators.append(('dt', model1))\n",
    "model2 = clfNN\n",
    "estimators.append(('Neural Net', model2))\n",
    "\n",
    "model3 = XGBClassifier(base_score=0.5, booster='gbtree', colsample_bylevel=1,\n",
    "       colsample_bytree=0.2, gamma=0, learning_rate=0.1, max_delta_step=0,\n",
    "       max_depth=2, min_child_weight=5, missing=None, n_estimators=500,\n",
    "       n_jobs=1, nthread=None, objective='binary:logistic', random_state=0,\n",
    "       reg_alpha=0, reg_lambda=1, scale_pos_weight=1, seed=None,\n",
    "       silent=True, subsample=0.35)\n",
    "\n",
    "estimators.append(('xgb', model3))\n",
    "# create the ensemble model\n",
    "ensemble = VotingClassifier(estimators, voting='soft', weights=[1,1,1])\n",
    "\n",
    "\n",
    "clf_voting = clf_result(ensemble,X_train, X_test, y_train, y_test,3)"
   ]
  },
  {
   "cell_type": "markdown",
   "metadata": {
    "colab_type": "text",
    "id": "KJY03rZi6BZu"
   },
   "source": [
    "### Step 7: Execution"
   ]
  },
  {
   "cell_type": "markdown",
   "metadata": {
    "colab_type": "text",
    "id": "3-Z0Xuh86BZv"
   },
   "source": [
    "1. count for tranaction cost: assume $\\$$5 per transaction, fixed. \n",
    "2. implement buy/sell signal to dollar: assume initial trading capital = $\\$$10000.\n",
    "3. Add return comparison to buy-and-hold: \n",
    "    - Scenario 1: All-in<br> \n"
   ]
  },
  {
   "cell_type": "markdown",
   "metadata": {
    "colab_type": "text",
    "id": "CHjNlppm6BZv"
   },
   "source": [
    "#### use the best model to plot"
   ]
  },
  {
   "cell_type": "code",
   "execution_count": 71,
   "metadata": {
    "colab": {},
    "colab_type": "code",
    "id": "l4n6rl7G6BZw"
   },
   "outputs": [],
   "source": [
    "# Turn buy/sell signal to dollar\n",
    "def dollar_value(df_concat,y_pred,initial_cash=10000,transaction_cost=5):\n",
    "    # initialization\n",
    "    cash = initial_cash\n",
    "    shares = 0\n",
    "    df_price = df_concat[[\"Adj Close_AAPL\",\"Open_AAPL\"]]\n",
    "    NAV = cash\n",
    "    list_initial = df_price.iloc[0,:].tolist()\n",
    "    transaction_cost = transaction_cost # assume fixed\n",
    "\n",
    "    # buy-and-hold strategy: day one buy it and hold it\n",
    "    hold_share = int((cash-transaction_cost)/list_initial[1]) # buy it at the opening price\n",
    "    hold_cash = cash - transaction_cost - (hold_share * list_initial[1])\n",
    "    hold_NAV = hold_cash + hold_share * list_initial[0]\n",
    "    list_initial.extend([1,shares,cash,NAV,hold_share,hold_cash,hold_NAV])\n",
    "\n",
    "    # # from day2 to the last training day\n",
    "    df_NAV = df_price.iloc[1:,:] \n",
    "    # # no need for last day, add prediction column to df_NAV\n",
    "    buy_sell_pred = pd.Series(y_pred[:-1], index = df_NAV.index) \n",
    "    df_NAV = df_NAV.assign(buy_sell_pred = buy_sell_pred.values)\n",
    "    \n",
    "    \n",
    "    list_shares = []\n",
    "    list_cash = []\n",
    "    list_NAV = []\n",
    "    list_hold_share = []\n",
    "    list_hold_cash = []\n",
    "    list_hold_NAV = []\n",
    " \n",
    "    for index, row in df_NAV.iterrows():\n",
    "        # if sell signal + there is holding to sell:\n",
    "        if (row['buy_sell_pred'] == 0) & (shares > 0):\n",
    "            cash = cash + (shares * row['Open_AAPL']) - transaction_cost # sell it when the market opens \n",
    "            shares = 0                                                   # close position\n",
    "        # if buy signal + there is money to buy:\n",
    "        elif (row['buy_sell_pred'] == 1) & (cash >= row['Open_AAPL']):\n",
    "            shares = shares + int((cash-transaction_cost)/row['Open_AAPL'])                 # buy it when the market opens\n",
    "            cash = cash - (int((cash-transaction_cost)/row['Open_AAPL']) * row['Open_AAPL'])\\\n",
    "                   - transaction_cost                                    # subtract cost of capital\n",
    "        list_shares.append(shares)\n",
    "        list_cash.append(cash)\n",
    "        list_NAV.append(cash + (row['Adj Close_AAPL'] *shares)) # NAV when market closes \n",
    "        list_hold_share.append(hold_share)\n",
    "        list_hold_cash.append(hold_cash)\n",
    "        list_hold_NAV.append(hold_cash + (row['Adj Close_AAPL'] *hold_share))\n",
    "\n",
    "    df_NAV['shares'] = list_shares\n",
    "    df_NAV['cash'] = list_cash\n",
    "    df_NAV['NAV'] = list_NAV\n",
    "    df_NAV['hold_share'] = list_hold_share\n",
    "    df_NAV['hold_cash'] = list_hold_cash\n",
    "    df_NAV['hold_NAV'] = list_hold_NAV\n",
    "    \n",
    "    # add back day-one data\n",
    "    df_NAV = pd.concat([pd.DataFrame(list_initial,index=df_NAV.columns,\\\n",
    "                                       columns=[df_price.index[0]]).T,df_NAV])\n",
    "    return df_NAV\n"
   ]
  },
  {
   "cell_type": "code",
   "execution_count": 108,
   "metadata": {
    "colab": {},
    "colab_type": "code",
    "id": "L3BPqXG66BZx"
   },
   "outputs": [
    {
     "data": {
      "text/plain": [
       "<matplotlib.axes._subplots.AxesSubplot at 0x832674d3c8>"
      ]
     },
     "execution_count": 108,
     "metadata": {},
     "output_type": "execute_result"
    },
    {
     "data": {
      "image/png": "[encoded data removed]",
      "text/plain": [
       "<Figure size 432x288 with 1 Axes>"
      ]
     },
     "metadata": {},
     "output_type": "display_data"
    }
   ],
   "source": [
    "# training set:\n",
    "df_NAV_train = dollar_value(df_concat.head(X_train.shape[0]),clf_voting.predict(X_train),10000,0)\n",
    "df_NAV_train[['NAV','hold_NAV']].plot()"
   ]
  },
  {
   "cell_type": "code",
   "execution_count": 109,
   "metadata": {},
   "outputs": [
    {
     "data": {
      "text/plain": [
       "<matplotlib.axes._subplots.AxesSubplot at 0x8326d23748>"
      ]
     },
     "execution_count": 109,
     "metadata": {},
     "output_type": "execute_result"
    },
    {
     "data": {
      "image/png": "[encoded data removed]",
      "text/plain": [
       "<Figure size 432x288 with 1 Axes>"
      ]
     },
     "metadata": {},
     "output_type": "display_data"
    }
   ],
   "source": [
    "df_NAV_test = dollar_value(df_concat.tail(X_test.shape[0]),clf_voting.predict(X_test),10000,0)\n",
    "df_NAV_test[['NAV','hold_NAV']].plot()"
   ]
  },
  {
   "cell_type": "code",
   "execution_count": 151,
   "metadata": {},
   "outputs": [
    {
     "name": "stdout",
     "output_type": "stream",
     "text": [
      "training & CV result:\n",
      "fit_time [0.2882061  0.35625482 0.49434972]\n",
      "score_time [0.01000476 0.01200676 0.01100683]\n",
      "test_accuracy [0.52808989 0.54494382 0.51404494]\n",
      "train_accuracy [0.88022284 0.85734266 0.86181139]\n",
      "test_prec [0.52702703 0.58638743 0.5       ]\n",
      "train_prec [0.86057692 0.82962963 0.85738832]\n",
      " \n",
      "accuracy score on test set:  0.5405405405405406\n",
      "Performance on training data: \n",
      "\n"
     ]
    },
    {
     "data": {
      "image/png": "[encoded data removed]",
      "text/plain": [
       "<Figure size 432x288 with 1 Axes>"
      ]
     },
     "metadata": {},
     "output_type": "display_data"
    },
    {
     "name": "stdout",
     "output_type": "stream",
     "text": [
      "----------------------------------------------------------------------\n",
      "F beta score is: 0.8409268419682375\n",
      "----------------------------------------------------------------------\n",
      "F1 score is: 0.853932584269663\n",
      "----------------------------------------------------------------------\n",
      "Classification Report: \n",
      "\n",
      "             precision    recall  f1-score   support\n",
      "\n",
      "          0       0.86      0.81      0.84       690\n",
      "          1       0.83      0.88      0.85       737\n",
      "\n",
      "avg / total       0.85      0.85      0.84      1427\n",
      "\n",
      "----------------------------------------------------------------------\n",
      "It took 0.0 sec to fit the model.\n",
      "----------------------------------------------------------------------\n",
      "Accuracy score: 0.845130\n",
      "AUC is: 0.846345\n",
      "----------------------------------------------------------------------\n",
      "Performance on testing data: \n",
      "\n"
     ]
    },
    {
     "data": {
      "image/png": "[encoded data removed]",
      "text/plain": [
       "<Figure size 432x288 with 1 Axes>"
      ]
     },
     "metadata": {},
     "output_type": "display_data"
    },
    {
     "name": "stdout",
     "output_type": "stream",
     "text": [
      "----------------------------------------------------------------------\n",
      "F beta score is: 0.5620155038759689\n",
      "----------------------------------------------------------------------\n",
      "F1 score is: 0.5771144278606964\n",
      "----------------------------------------------------------------------\n",
      "Classification Report: \n",
      "\n",
      "             precision    recall  f1-score   support\n",
      "\n",
      "          0       0.53      0.47      0.50        89\n",
      "          1       0.55      0.60      0.58        96\n",
      "\n",
      "avg / total       0.54      0.54      0.54       185\n",
      "\n",
      "----------------------------------------------------------------------\n",
      "It took 0.0 sec to fit the model.\n",
      "----------------------------------------------------------------------\n",
      "Accuracy score: 0.540541\n",
      "AUC is: 0.538690\n",
      "----------------------------------------------------------------------\n"
     ]
    },
    {
     "data": {
      "text/plain": [
       "VotingClassifier(estimators=[('dt', DecisionTreeClassifier(class_weight=None, criterion='gini', max_depth=None,\n",
       "            max_features='log2', max_leaf_nodes=None,\n",
       "            min_impurity_decrease=0.0, min_impurity_split=None,\n",
       "            min_samples_leaf=5, min_samples_split=2,\n",
       "            min_weight_fraction_le...     reg_alpha=0, reg_lambda=1, scale_pos_weight=1, seed=None,\n",
       "       silent=True, subsample=0.35))],\n",
       "         flatten_transform=None, n_jobs=1, voting='soft',\n",
       "         weights=[1, 1, 1])"
      ]
     },
     "execution_count": 151,
     "metadata": {},
     "output_type": "execute_result"
    }
   ],
   "source": [
    "clf_result(ensemble,X_train, X_test[-325:-140], y_train, y_test[-325:-140],3)"
   ]
  },
  {
   "cell_type": "code",
   "execution_count": 155,
   "metadata": {},
   "outputs": [
    {
     "data": {
      "text/plain": [
       "<matplotlib.axes._subplots.AxesSubplot at 0x83286d6be0>"
      ]
     },
     "execution_count": 155,
     "metadata": {},
     "output_type": "execute_result"
    },
    {
     "data": {
      "image/png": "[encoded data removed]",
      "text/plain": [
       "<Figure size 432x288 with 1 Axes>"
      ]
     },
     "metadata": {},
     "output_type": "display_data"
    }
   ],
   "source": [
    "df_NAV_test = dollar_value(df_concat.tail(325),clf_voting.predict(X_test[-325:]),10000,0)\n",
    "df_NAV_test[['NAV','hold_NAV']].iloc[:-140,:].plot()"
   ]
  }
 ],
 "metadata": {
  "colab": {
   "name": "230T_Project_Anurag_V1.5SumairV1.6.ipynb",
   "provenance": [],
   "version": "0.3.2"
  },
  "kernelspec": {
   "display_name": "Python 3",
   "language": "python",
   "name": "python3"
  },
  "language_info": {
   "codemirror_mode": {
    "name": "ipython",
    "version": 3
   },
   "file_extension": ".py",
   "mimetype": "text/x-python",
   "name": "python",
   "nbconvert_exporter": "python",
   "pygments_lexer": "ipython3",
   "version": "3.8.8"
  }
 },
 "nbformat": 4,
 "nbformat_minor": 1
}
